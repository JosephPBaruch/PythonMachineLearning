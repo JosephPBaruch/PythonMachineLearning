{
 "cells": [
  {
   "cell_type": "markdown",
   "metadata": {},
   "source": [
    " ## Sp25 CS477/577: Python for Machine Learning\n",
    " \n",
    " Lecture 3: Statements\n",
    "\n",
    "We have learned data types and stuctures to represent data in Python. In this lecture, we are will learn *statements* and combine them to construct *procedures* to solve complicated tasks.\n",
    "\n",
    "## Agenda\n",
    "   - [Statements introduction](#section1)\n",
    "   \n",
    "   - [if test](#section2)\n",
    "   \n",
    "   - [while loop](#section31)\n",
    "      \n",
    "   - [for loop](#section32)\n",
    "   \n",
    "   - [match](#section4)\n",
    "   \n",
    "   - [An example and practice](#section5)"
   ]
  },
  {
   "cell_type": "markdown",
   "metadata": {},
   "source": [
    "### Statements Introduction<a id = \"section1\"/>\n",
    "\n",
    "> Statements are the things we write to tell Python what our programs should do.\n",
    "\n",
    "The role of Python statement (conceptual hierarchy):\n",
    "\n",
    "    1. Programs are composed of modules(files).\n",
    "    2. Modules contains statements.\n",
    "    3. *Statements* contain expression\n",
    "    4. Expression create and process objects.\n",
    "\n",
    "Each statement in Python has its own specific purpose and its own specific syntax.\n",
    "\n",
    "    - import, from: module and attribute access\n",
    "    - if/elif/else: selecting actions\n",
    "    - for, while, break, continue: loops\n",
    "    - match statement for pattern matching\n",
    "    - def, return, class, yield: define functions and classes\n",
    "    - global, nonlocal: namespaces and scopes\n",
    "    - try/except: catching exceptions/errors\n",
    "    - with/as: context managers\n",
    "\n"
   ]
  },
  {
   "cell_type": "markdown",
   "metadata": {},
   "source": [
    "#### Basic Python statement Syntax\n",
    "```c++\n",
    "// C++ example of the 'if' statement\n",
    "if(a > b){\n",
    "    x = 1;\n",
    "    y = 2;\n",
    "}\n",
    "```\n",
    "\n",
    "```python\n",
    "# python example of the 'if' statement\n",
    "if a > b:\n",
    "    x = 1\n",
    "    y = 2\n",
    "```\n",
    "\n",
    "What Python adds\n",
    "\n",
    "    - All Python compound statements' header line terminated in a colon character(:). *Forgeting this is the most common coding mistake in beginners.* \n",
    "    \n",
    "What Python removes\n",
    "\n",
    "    - Parentheses are optional.\n",
    "    - No need the semicolon(;) to terminate a line.\n",
    "    - No need {} to define the begin and end of a block.End of indentation is end of block."
   ]
  },
  {
   "cell_type": "markdown",
   "metadata": {},
   "source": [
    "#### Assignments statements\n",
    "> We use assignment statements to assign objects to names, e.g., a = 10. In the basic form, we write the target on the left of an equals sign, and the object on the right.\n",
    "\n",
    "Assignments create references/new variables and will not copy data.\n",
    "```python\n",
    "    L = [1, 2, 3]\n",
    "    L1 = L\n",
    "```\n"
   ]
  },
  {
   "cell_type": "code",
   "execution_count": 9,
   "metadata": {},
   "outputs": [],
   "source": [
    "#baisc form\n",
    "a = 1\n",
    "b = 2\n",
    "c = 3"
   ]
  },
  {
   "cell_type": "code",
   "execution_count": 10,
   "metadata": {},
   "outputs": [],
   "source": [
    "#multi-target assignment\n",
    "a = b = c = 1"
   ]
  },
  {
   "cell_type": "code",
   "execution_count": 11,
   "metadata": {},
   "outputs": [
    {
     "data": {
      "text/plain": [
       "2"
      ]
     },
     "execution_count": 11,
     "metadata": {},
     "output_type": "execute_result"
    }
   ],
   "source": [
    "# augmented assignment\n",
    "a += 1\n",
    "a"
   ]
  },
  {
   "cell_type": "markdown",
   "metadata": {},
   "source": [
    "#### Expression statements\n",
    "Expression statements are commonly used in two situations\n",
    "- call functions or class methods (without return values)\n",
    "- print values at the prompt"
   ]
  },
  {
   "cell_type": "code",
   "execution_count": 12,
   "metadata": {},
   "outputs": [],
   "source": [
    "x = 'hello'\n",
    "y = 'python'\n",
    "\n"
   ]
  },
  {
   "cell_type": "code",
   "execution_count": 13,
   "metadata": {},
   "outputs": [],
   "source": [
    "f = open('data.txt', 'w')\n"
   ]
  },
  {
   "cell_type": "markdown",
   "metadata": {},
   "source": [
    "### if Tests  <a id = \"section2\"/>\n",
    "\n",
    "In Python, `if` statements allow us to instruct the program to perform alternative actions, based on one or several tests. This provides for introducing logic in our codes, and it can be interpreted as \"if this case happens, then perform this action\".\n",
    "\n",
    "`if` is a ***compound statement,*** since it may contain other statements in its syntax. Also, the `if` statement is referred to as a ***conditional*** statement.\n",
    "\n",
    "The `if` statement takes the form an `if test`, followed by one or more optional `elif (else if) test`, and\n",
    "a final optional `else test`. Each of the tests has an associated block of nested statements, indented under a header line.\n",
    "\n",
    "The general form for `if` statements is:\n",
    "\n",
    "    if test1:\n",
    "        statements: perform action 1\n",
    "    elif test2:\n",
    "        statements: perform action 2\n",
    "    else: \n",
    "        statements: perform action 3\n",
    "        \n",
    "The above compound statement can be interpreted as: if the case in test 1 happens, perform action 1. Else, if the case in test 2 happens, perform some other action&mdash;action 2. Or else, if none of the above cases happen, perform action 3."
   ]
  },
  {
   "cell_type": "code",
   "execution_count": 14,
   "metadata": {},
   "outputs": [
    {
     "name": "stdout",
     "output_type": "stream",
     "text": [
      "105 is high\n"
     ]
    }
   ],
   "source": [
    "# basic if\n",
    "x = 105\n",
    "\n",
    "if x > 100:\n",
    "    print(x, 'is high')"
   ]
  },
  {
   "cell_type": "code",
   "execution_count": 15,
   "metadata": {},
   "outputs": [],
   "source": [
    "# if-else\n",
    "x = False\n",
    "\n"
   ]
  },
  {
   "cell_type": "markdown",
   "metadata": {},
   "source": [
    "#### Exercise 1\n",
    "\n",
    "Write an `if-else` test that for a given number x prints whether it is an even or odd number. Hint: use the modulus operator `%` (if you are not familiar with it, perform an internet search)."
   ]
  },
  {
   "cell_type": "code",
   "execution_count": 16,
   "metadata": {},
   "outputs": [
    {
     "name": "stdout",
     "output_type": "stream",
     "text": [
      "Odd\n"
     ]
    }
   ],
   "source": [
    "# if-elif-else\n",
    "z = 69\n",
    "\n",
    "if z % 2 == 0: \n",
    "    print(\"Even\")\n",
    "else: \n",
    "    print(\"Odd\") \n",
    "    \n"
   ]
  },
  {
   "cell_type": "markdown",
   "metadata": {},
   "source": [
    "#### Exercise 2\n",
    "\n",
    "Using `if-else` and the `input()` function, create a program that asks to enter a password, and if the password is 123456 it displays 'Welcome!' and if not it displays 'Access denied!'."
   ]
  },
  {
   "cell_type": "code",
   "execution_count": 17,
   "metadata": {},
   "outputs": [
    {
     "name": "stdout",
     "output_type": "stream",
     "text": [
      "Welcome!\n"
     ]
    }
   ],
   "source": [
    "pwd = input('Enter a password:')\n",
    "\n",
    "if pwd == \"12345\":\n",
    "    print(\"Welcome!\")\n",
    "else:\n",
    "    print(\"Access denied!\")\n"
   ]
  },
  {
   "cell_type": "markdown",
   "metadata": {},
   "source": [
    "#### Boolean Operators to Make Complex Statements"
   ]
  },
  {
   "cell_type": "code",
   "execution_count": 18,
   "metadata": {},
   "outputs": [
    {
     "name": "stdout",
     "output_type": "stream",
     "text": [
      "40 is in the labor force\n"
     ]
    }
   ],
   "source": [
    "age = 40\n",
    "\n",
    "if age > 65 or age < 16:\n",
    "    print(age, 'is outside the labor force')\n",
    "else:\n",
    "    print(age, 'is in the labor force')"
   ]
  },
  {
   "cell_type": "markdown",
   "metadata": {},
   "source": [
    "#### The if - else Ternary Expression\n",
    "Python also has an ***if - else ternary expression*** with the following syntax:\n",
    "\n",
    "    a if condition else b\n",
    "    \n",
    "In the above expression, first the condition is evaluated, and afterward either a or b is returned based on the Boolean value of the condition."
   ]
  },
  {
   "cell_type": "markdown",
   "metadata": {},
   "source": [
    "### For and While Loops  <a id = \"section3\"/>\n",
    "\n",
    "Structure of a Loop\n",
    "- Many algorithms require a programming language to *carry out a sequence of statements repeatedly*. The code within the loop is called the body of the loop.\n",
    "\n",
    "Three loop categories\n",
    "1. Count-controlled loop. Reating a loop a certain number of times. **Python does not have this kind of loop.**\n",
    "```C++\n",
    "// C++ example\n",
    "for (int i = 0; i < 5; i++) {\n",
    "  cout << i << \"\\n\";\n",
    "}\n",
    "```\n",
    "2. Condition-controlled loop. A loop will be repeated until a given condition changes. \n",
    "\n",
    "```python\n",
    "# Python example\n",
    "n = 100\n",
    "i = 1\n",
    "while i < n:\n",
    "    print(i)\n",
    "```\n",
    "\n",
    "3. Collection-controlled loop. It allows looping through the elements of a \"collection\", which can be an array, list or other ordered sequence.\n",
    "\n",
    "Python Loops\n",
    ">Python supports the condition-controlled (while)loop and collection-controlled (for) loop."
   ]
  },
  {
   "cell_type": "markdown",
   "metadata": {},
   "source": [
    "### While loop <a id = \"section31\"/>\n",
    "Basic while loop. \n",
    "- Before the body of the loop is executed, the condition is evaluated. If it evaluates to False, the while loop is finished.\n",
    "\n",
    "\n",
    "- The general syntax of a basic while loop:\n",
    "```python\n",
    "while condition:\n",
    "    statement_1\n",
    "    ...\n",
    "    statement_n\n",
    "```"
   ]
  },
  {
   "cell_type": "code",
   "execution_count": 19,
   "metadata": {},
   "outputs": [],
   "source": [
    "#### A Small Example. \n",
    "#Calculate the sum of the numbers from 1 to n until the sum is 100\n",
    "\n",
    "\n"
   ]
  },
  {
   "cell_type": "markdown",
   "metadata": {},
   "source": [
    "#### Break and continue statements in loops\n",
    "- Break is used to exit a for loop or a while loop (innermost loop)\n",
    "- Continue is used to skip the current block, and continues with the next iteration of the loop. "
   ]
  },
  {
   "cell_type": "code",
   "execution_count": 20,
   "metadata": {},
   "outputs": [],
   "source": [
    "#Calculate the sum of the numbers from 1 to n until the sum greater than 100 with the two following condition\n",
    "# 1. ignore odd numbers\n"
   ]
  },
  {
   "cell_type": "markdown",
   "metadata": {},
   "source": [
    "#### Full while loop syntax\n",
    "\n",
    "The general syntax of the full while loop\n",
    "```python\n",
    "while condition:\n",
    "    statement_1\n",
    "    ...\n",
    "    statement_n\n",
    "else: # the optional else part of while statement. The eles part will not excute if the loop was terminated using break.\n",
    "    statement_1\n",
    "    ...\n",
    "    statement_n \n",
    "```"
   ]
  },
  {
   "cell_type": "markdown",
   "metadata": {},
   "source": [
    "### For loop <a id = \"section32\"/>\n",
    "\n",
    "Python use iterator-based for loop\n",
    "- The for loop iterates over items of lists, tuple, string, the kyes of dicts and other iterable data structures. In each iteration step a loop variable is set to a value in a sequence or other data collection. \n",
    "\n",
    "\n",
    "Syntax of the *for* Loop\n",
    "\n",
    "- The Python for loop starts with the keyword \"for\" followed by an arbitrary variable name, which will hold the values of the following data sequence. The *else* block will be executed only if the loop hasn't been \"broken\" by a break statement.\n",
    "\n",
    "```python\n",
    "for item in item_sequence:\n",
    "    statement 1\n",
    "    ...\n",
    "    statement n\n",
    "else:\n",
    "    other statements\n",
    "```"
   ]
  },
  {
   "cell_type": "code",
   "execution_count": 21,
   "metadata": {},
   "outputs": [
    {
     "name": "stdout",
     "output_type": "stream",
     "text": [
      "Java\n",
      "C++\n",
      "Perl\n",
      "Python\n"
     ]
    }
   ],
   "source": [
    "languages = [\"Java\", \"C++\", \"Perl\", \"Python\"] \n",
    "\n",
    "for lang in languages:\n",
    "    print(lang)"
   ]
  },
  {
   "cell_type": "code",
   "execution_count": 22,
   "metadata": {},
   "outputs": [
    {
     "name": "stdout",
     "output_type": "stream",
     "text": [
      "0 Java\n",
      "1 C++\n",
      "2 Perl\n",
      "3 Python\n"
     ]
    }
   ],
   "source": [
    "##### For loop with both item and item index\n",
    "for i , item in enumerate(languages):\n",
    "    print(i, item)"
   ]
  },
  {
   "cell_type": "code",
   "execution_count": 23,
   "metadata": {},
   "outputs": [
    {
     "name": "stdout",
     "output_type": "stream",
     "text": [
      "0 Java\n",
      "1 C++\n",
      "2 Perl\n",
      "3 Python\n"
     ]
    }
   ],
   "source": [
    "#### Use the range() function to construct count-controlled-like for loop\n",
    "for i in range(len(languages)):\n",
    "    print(i, languages[i])"
   ]
  },
  {
   "cell_type": "markdown",
   "metadata": {},
   "source": [
    "### match Statements\n",
    "\n",
    "A match statement compares its value to successive patterns given as one or more case blocks. \n",
    "\n",
    "This is superficially similar to a switch statement in C, Java or JavaScript (and many other languages)\n",
    "\n",
    "Only the first pattern that matches gets executed and it can also extract components (sequence elements or object attributes) from the value into variables."
   ]
  },
  {
   "cell_type": "code",
   "execution_count": 24,
   "metadata": {},
   "outputs": [
    {
     "name": "stdout",
     "output_type": "stream",
     "text": [
      "Not found\n"
     ]
    }
   ],
   "source": [
    "# example was from https://docs.python.org/3.11/tutorial/controlflow.html#match-statements\n",
    "\n",
    "status = 404\n",
    "\n",
    "match status:\n",
    "    case 400:\n",
    "        print(\"Bad request\")\n",
    "    case 404:\n",
    "        print(\"Not found\")\n",
    "    case 418:\n",
    "        print(\"I'm a teapot\")\n",
    "    case _: # wildcard \n",
    "        print(\"Something's wrong with the internet\")"
   ]
  },
  {
   "cell_type": "markdown",
   "metadata": {},
   "source": [
    "### A realistic example to practice compund statements <a id = \"section5\"/>\n",
    "Supose we are asked to write a Python program to calculate square root of a number input by user. The program should be able to interact with user to allow user input from keyboard, and print our the results."
   ]
  },
  {
   "cell_type": "code",
   "execution_count": 25,
   "metadata": {},
   "outputs": [],
   "source": [
    "import math\n",
    "\n"
   ]
  },
  {
   "cell_type": "code",
   "execution_count": 26,
   "metadata": {},
   "outputs": [],
   "source": [
    "import math\n",
    "\n"
   ]
  },
  {
   "cell_type": "markdown",
   "metadata": {},
   "source": [
    "#### Exercise \n",
    "Loop through and print out all even numbers from the numbers list \n",
    "in the same order they are received. \n",
    "    - ignore numbers less than 100; and \n",
    "    - don't print any numbers that come after 710 in the sequence.\n",
    "\n",
    "    "
   ]
  },
  {
   "cell_type": "code",
   "execution_count": 27,
   "metadata": {},
   "outputs": [],
   "source": [
    "numbers = [129, 137, 543, 514, 985, 648, 896, 788, 955,2, 537, 585, 466,\n",
    "       246, 100, 285, 998, 228, 976, 355, 362, 701, 990, 165, 985, 669,\n",
    "       691, 596, 632, 902, 485, 897, 955,  15, 966, 681, 148, 925, 938,\n",
    "       789, 346, 603, 817, 166, 223, 623, 461, 849, 265, 368,  37, 479,\n",
    "       324, 741, 303, 762, 907, 316,  56, 636, 277, 968, 686, 914, 451,\n",
    "       642, 413, 472, 959, 933, 117, 138, 294, 319, 137, 582, 546, 865,\n",
    "       994,  98, 637, 710, 541, 178, 410, 911, 907, 175, 652, 761, 280,\n",
    "       607, 397, 478, 480, 224, 879, 702, 458, 962]\n"
   ]
  }
 ],
 "metadata": {
  "kernelspec": {
   "display_name": "base",
   "language": "python",
   "name": "python3"
  },
  "language_info": {
   "codemirror_mode": {
    "name": "ipython",
    "version": 3
   },
   "file_extension": ".py",
   "mimetype": "text/x-python",
   "name": "python",
   "nbconvert_exporter": "python",
   "pygments_lexer": "ipython3",
   "version": "3.12.7"
  }
 },
 "nbformat": 4,
 "nbformat_minor": 4
}
