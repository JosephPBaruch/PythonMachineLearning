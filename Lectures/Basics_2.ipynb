{
 "cells": [
  {
   "cell_type": "markdown",
   "metadata": {},
   "source": [
    " ## Sp25 CS477/577: Python for Machine Learning\n",
    " \n",
    " Lecture 2: Python data types and structures\n",
    "   - [Overview](#section1)\n",
    "   - [Numeric types](#section2)\n",
    "   - [Strings](#section3)\n",
    "   - [Lists](#section4)\n",
    "   - [Dictionaries](#section5)\n",
    "   - [Tuples](#section6)\n",
    "   - [Sets](#section7)\n",
    "   \n",
    "In an informal sense, the purpose of programming is to solve problems by defining and performing operations on **data**.\n",
    "\n",
    "Data have different forms and units, e.g., grades (100 points), body weight (150.5 lbs), and temperature: 80$^{o} F$"
   ]
  },
  {
   "cell_type": "code",
   "execution_count": 1,
   "metadata": {
    "tags": []
   },
   "outputs": [
    {
     "name": "stdout",
     "output_type": "stream",
     "text": [
      "Python 3.12.7\n"
     ]
    }
   ],
   "source": [
    "!python --version"
   ]
  },
  {
   "cell_type": "markdown",
   "metadata": {},
   "source": [
    "## 1. Overview of Python core data types and structures <a id = \"section 1\"/>\n",
    "\n",
    "#### Numbers: interger, float, complex, decimal(fixed-length), boolean, fraction\n",
    "\n",
    "```pyhton\n",
    "i = 2200000 # positive integer\n",
    "i1 = -1234   # negative integer\n",
    "f1 = 3.1415926 #float-point number\n",
    "Decimal('1.0') # fixed-length floating point\n",
    "Fraction(1, 3) #fraction\n",
    "bool(1), True, False\n",
    "\n",
    "```\n",
    "\n",
    "#### Strings\n",
    "```python\n",
    "name = 'Bruce Lee'\n",
    "```\n",
    "\n",
    "#### Lists\n",
    "```python\n",
    "nums = [1, 2, 3.0]\n",
    "mixed = [1, 2.5, 'spam']\n",
    "```\n",
    "\n",
    "#### Dictionaries\n",
    "```python\n",
    "grades = {'Bruce': 100, 'Henry': 80}\n",
    "```\n",
    "\n",
    "#### Tuples\n",
    "```python\n",
    "t = (100, 200)\n",
    "```\n",
    "#### Sets\n",
    "```python\n",
    "s = {100, 200, 300}\n",
    "```\n",
    "\n",
    "#### Files\n",
    "\n",
    "```python\n",
    "f = open('hello.txt')\n",
    "```"
   ]
  },
  {
   "cell_type": "markdown",
   "metadata": {},
   "source": [
    "#### Python is a **dynamically-typed** programming language\n",
    "- It does not need data type declarations and tracks data types automatically based on the expressions.\n",
    "\n",
    "```C++\n",
    "//C++ example\n",
    "int a; // type decalaration\n",
    "a = 5;\n",
    "```\n",
    "\n",
    "```python\n",
    "#python example\n",
    "a = 5\n",
    "```\n",
    "\n",
    "- Dynamic typing languages\n",
    "    - Pyhton, Perl, PHP, and JavaScript\n",
    "- Static typing languages\n",
    "    - Java, C, and C++"
   ]
  },
  {
   "cell_type": "markdown",
   "metadata": {},
   "source": [
    "## 2. Numerical types and operations <a id=\"section2\"/>\n",
    "- [Numbers in Python](#numbers) \n",
    "- [Basic operations](#ops)\n",
    "- [Math functions](#math)"
   ]
  },
  {
   "cell_type": "markdown",
   "metadata": {},
   "source": [
    "#### Numbers in Python <a id=\"numbers\"/>"
   ]
  },
  {
   "cell_type": "code",
   "execution_count": 1,
   "metadata": {
    "tags": []
   },
   "outputs": [],
   "source": [
    "#int\n"
   ]
  },
  {
   "cell_type": "code",
   "execution_count": 2,
   "metadata": {
    "tags": []
   },
   "outputs": [],
   "source": [
    "#float\n"
   ]
  },
  {
   "cell_type": "code",
   "execution_count": 4,
   "metadata": {
    "tags": []
   },
   "outputs": [],
   "source": [
    "#float, 100, 1-e2\n"
   ]
  },
  {
   "cell_type": "code",
   "execution_count": 5,
   "metadata": {
    "tags": []
   },
   "outputs": [
    {
     "name": "stdout",
     "output_type": "stream",
     "text": [
      "0.30000000000000004\n",
      "5.551115123125783e-17\n"
     ]
    }
   ],
   "source": [
    "# issue of float numbers: We do not have exact representations in binary floating point\n",
    "f1 = .1 + .1 + .1\n",
    "print(f1)\n",
    "\n",
    "print(f1-.3)"
   ]
  },
  {
   "cell_type": "code",
   "execution_count": 10,
   "metadata": {
    "tags": []
   },
   "outputs": [
    {
     "data": {
      "text/plain": [
       "Decimal('3.3')"
      ]
     },
     "execution_count": 10,
     "metadata": {},
     "output_type": "execute_result"
    }
   ],
   "source": [
    "#decimal floating point: Decimal numbers can be represented exactly\n",
    "from decimal import Decimal\n",
    "f = Decimal('1.1') + Decimal('1.1')  + Decimal('1.1') \n",
    "type(f)\n",
    "f"
   ]
  },
  {
   "cell_type": "code",
   "execution_count": 11,
   "metadata": {
    "tags": []
   },
   "outputs": [
    {
     "data": {
      "text/plain": [
       "2.1"
      ]
     },
     "execution_count": 11,
     "metadata": {},
     "output_type": "execute_result"
    }
   ],
   "source": [
    "# mixed types\n",
    "i = 1 \n",
    "j = 1.1\n",
    "i + j"
   ]
  },
  {
   "cell_type": "code",
   "execution_count": 13,
   "metadata": {
    "tags": []
   },
   "outputs": [
    {
     "name": "stdout",
     "output_type": "stream",
     "text": [
      "3\n"
     ]
    }
   ],
   "source": [
    "## convert between types\n",
    "print(int(f))\n"
   ]
  },
  {
   "cell_type": "markdown",
   "metadata": {},
   "source": [
    "#### Basic perations <a id=\"ops\"/>\n",
    "- Basic operations: +, -, \\*, /, ** , %(remainder), <, >, ==, etc.\n",
    "- Build-in mathematical functions: pow, abs, round, int, etc.\n",
    "- Other modules: math, random, etc. \n"
   ]
  },
  {
   "cell_type": "code",
   "execution_count": 12,
   "metadata": {
    "tags": []
   },
   "outputs": [
    {
     "name": "stdout",
     "output_type": "stream",
     "text": [
      "1.6666666666666667\n",
      "1\n",
      "16\n",
      "16\n",
      "107.06 107.1\n"
     ]
    }
   ],
   "source": [
    "# practice \n",
    "d = 5 / 3 # classic division\n",
    "print(d)\n",
    "d1 = 5 // 3 # floor division\n",
    "print(d1)\n",
    "\n",
    "a = 2 **4 # 2 to the power of 4\n",
    "print(a)\n",
    "\n",
    "b = pow(2, 4)\n",
    "print(b)\n",
    "\n",
    "price = 101\n",
    "tax_rate = 0.06\n",
    "\n",
    "pay = price + price * tax_rate\n",
    "print(pay, round(pay, 1))"
   ]
  },
  {
   "cell_type": "markdown",
   "metadata": {},
   "source": [
    "#### Math operations <a id=\"math\"/>\n",
    "\n",
    "Build-in mathematical functions: pow, abs, round, sum, etc.\n",
    "- we have used some buit-in functions in Python, e.g., **round**, and **type**. The functions are built into Python intepreter. We use it and do not need to import any packages. Check the list of all built-in functions in Python:\n",
    "https://docs.python.org/3.11/library/functions.html"
   ]
  },
  {
   "cell_type": "code",
   "execution_count": 28,
   "metadata": {},
   "outputs": [
    {
     "name": "stdout",
     "output_type": "stream",
     "text": [
      "Help on built-in function pow in module builtins:\n",
      "\n",
      "pow(x, y, z=None, /)\n",
      "    Equivalent to x**y (with two arguments) or x**y % z (with three arguments)\n",
      "    \n",
      "    Some types, such as ints, are able to use a more efficient algorithm when\n",
      "    invoked using the three argument form.\n",
      "\n"
     ]
    }
   ],
   "source": [
    "help(pow) # check document to know how to use a function"
   ]
  },
  {
   "cell_type": "code",
   "execution_count": 9,
   "metadata": {
    "tags": []
   },
   "outputs": [
    {
     "name": "stdout",
     "output_type": "stream",
     "text": [
      "8\n"
     ]
    }
   ],
   "source": [
    "#abs, pow, sum\n",
    "print(pow(2, 3))"
   ]
  },
  {
   "cell_type": "markdown",
   "metadata": {},
   "source": [
    "Math functions from non-builtin functions"
   ]
  },
  {
   "cell_type": "code",
   "execution_count": 2,
   "metadata": {
    "tags": []
   },
   "outputs": [],
   "source": [
    "# use the math module. https://docs.python.org/3.12/library/math.html#module-math\n",
    "import math\n",
    "\n"
   ]
  },
  {
   "cell_type": "code",
   "execution_count": 3,
   "metadata": {
    "tags": []
   },
   "outputs": [
    {
     "name": "stdout",
     "output_type": "stream",
     "text": [
      "0.8043302770303506\n"
     ]
    }
   ],
   "source": [
    "# use the random module\n",
    "import random\n",
    "\n",
    "r = random.random() #random floating point number in the range 0.0 <= X < 1.0\n",
    "print(r)"
   ]
  },
  {
   "cell_type": "markdown",
   "metadata": {},
   "source": [
    "In-class Practice: Calculate the square and square root of a number"
   ]
  },
  {
   "cell_type": "code",
   "execution_count": 47,
   "metadata": {
    "tags": []
   },
   "outputs": [
    {
     "data": {
      "text/plain": [
       "3.0"
      ]
     },
     "execution_count": 47,
     "metadata": {},
     "output_type": "execute_result"
    }
   ],
   "source": [
    "a = 9\n",
    "import math\n",
    "math.sqrt(a)\n"
   ]
  },
  {
   "cell_type": "markdown",
   "metadata": {},
   "source": [
    "## 3. Strings and operations <a id=\"section3\"/>\n",
    "Python strings (type str) are enclosed in single quotes ('...') or double quotes (\"...\")."
   ]
  },
  {
   "cell_type": "code",
   "execution_count": 15,
   "metadata": {
    "tags": []
   },
   "outputs": [
    {
     "data": {
      "text/plain": [
       "str"
      ]
     },
     "execution_count": 15,
     "metadata": {},
     "output_type": "execute_result"
    }
   ],
   "source": [
    "#str type\n",
    "s1 = \"Bruce\"\n",
    "type(s1)"
   ]
  },
  {
   "cell_type": "code",
   "execution_count": 48,
   "metadata": {
    "tags": []
   },
   "outputs": [],
   "source": [
    "#single and doubel quotes, and '\\'\n"
   ]
  },
  {
   "cell_type": "code",
   "execution_count": 49,
   "metadata": {
    "tags": []
   },
   "outputs": [],
   "source": [
    "#concatenates two strings\n",
    "s1 = 'Python'\n",
    "s2 = 'programming'\n",
    "\n"
   ]
  },
  {
   "cell_type": "code",
   "execution_count": 34,
   "metadata": {},
   "outputs": [
    {
     "data": {
      "text/plain": [
       "'PythonPython'"
      ]
     },
     "execution_count": 34,
     "metadata": {},
     "output_type": "execute_result"
    }
   ],
   "source": [
    "s1 * 2"
   ]
  },
  {
   "cell_type": "code",
   "execution_count": 35,
   "metadata": {},
   "outputs": [
    {
     "data": {
      "text/plain": [
       "12"
      ]
     },
     "execution_count": 35,
     "metadata": {},
     "output_type": "execute_result"
    }
   ],
   "source": [
    "len(s1*2)"
   ]
  },
  {
   "cell_type": "code",
   "execution_count": 50,
   "metadata": {
    "scrolled": true,
    "tags": []
   },
   "outputs": [],
   "source": [
    "# check all operations for string\n"
   ]
  },
  {
   "cell_type": "code",
   "execution_count": 51,
   "metadata": {
    "tags": []
   },
   "outputs": [],
   "source": [
    "# number 2 str\n"
   ]
  },
  {
   "cell_type": "code",
   "execution_count": 52,
   "metadata": {
    "tags": []
   },
   "outputs": [],
   "source": [
    "# str to number\n"
   ]
  },
  {
   "cell_type": "markdown",
   "metadata": {},
   "source": [
    "#### Practice\n",
    "Given a string \"s,pa,m\", extract the two characters ('pa') in the middle "
   ]
  },
  {
   "cell_type": "code",
   "execution_count": 55,
   "metadata": {
    "tags": []
   },
   "outputs": [],
   "source": [
    "s = \"s,pa,m\"\n"
   ]
  },
  {
   "cell_type": "markdown",
   "metadata": {},
   "source": [
    "## 4. Lists <a id=\"section4\"/>\n",
    "In Python, lists are the most flexible **ordered** built-in collection object type.\n",
    "```python\n",
    "    L = [1, 2, 3, 5] # a list example\n",
    "```\n",
    "#### 1. Major properties :\n",
    "(1) Ordered collections of arbitrary objects: a left-to-right positional ordering of the items.\n",
    "\n",
    "(2) Access by **positional offset**; fetch an item by indexing the list on the object's offset\n",
    "\n",
    "(3) Variable length: can grow and shrink in place\n",
    "\n",
    "(4) **Mutable**\n",
    "\n",
    "(5) Lists are arrays (in standard Python interpreter)\n",
    "\n",
    "#### 2. List Operations\n",
    "\n",
    "(1) length: len(L)\n",
    "\n",
    "(2) concatenation: +, L.extend(another list)\n",
    "\n",
    "(3) repetition: *\n",
    "\n",
    "(4) membership: 1 in L\n",
    " \n",
    "(5) deletion: del L[0] or L[0] = []\n",
    "\n",
    "(6) insertion\n",
    "\n",
    "(7) replacement\n",
    "\n",
    "(8) iteration and comprehensions\n",
    "\n",
    "(9) Matrix"
   ]
  },
  {
   "cell_type": "code",
   "execution_count": 58,
   "metadata": {
    "tags": []
   },
   "outputs": [
    {
     "name": "stdout",
     "output_type": "stream",
     "text": [
      "[1, 2, 3.5, 'str', [2, 3, 4]]\n",
      "1\n"
     ]
    }
   ],
   "source": [
    "#(1) Ordered collections of arbitrary objects: a left-to-right positional ordering of the items.\n",
    "L = []\n",
    "L = [1,2, 3.5, 'str']\n",
    "L = [1,2, 3.5, 'str', [2, 3,4]] # arbitrary nesting\n",
    "\n",
    "print(L)\n",
    "print(L[0])"
   ]
  },
  {
   "cell_type": "code",
   "execution_count": 59,
   "metadata": {
    "tags": []
   },
   "outputs": [],
   "source": [
    "#(2) Access by offset; fetch an item by indexing the list on the object's offset\n",
    "#index: L[i] for 1d, L[i][j] for 2d\n",
    "L = [1,2, 3.5, 'str', [2, 3,4]] # arbitrary nesting\n",
    "\n"
   ]
  },
  {
   "cell_type": "code",
   "execution_count": 60,
   "metadata": {
    "tags": []
   },
   "outputs": [],
   "source": [
    "#(3) Variable length: can grow and shrink in place\n",
    "L = [1,2, 3.5]\n"
   ]
  },
  {
   "cell_type": "code",
   "execution_count": 61,
   "metadata": {
    "tags": []
   },
   "outputs": [],
   "source": [
    "#(4) Mutable\n",
    "L = [1,2, 3.5]\n"
   ]
  },
  {
   "cell_type": "code",
   "execution_count": 63,
   "metadata": {},
   "outputs": [],
   "source": [
    "#(5) -(7) shrink\n",
    "L = [1, 2, 3, 5]\n"
   ]
  },
  {
   "cell_type": "code",
   "execution_count": 65,
   "metadata": {
    "tags": []
   },
   "outputs": [],
   "source": [
    "# (8) List iteration and comprehensions\n",
    "#List iteration\n",
    "L = [1, 2, 3.5]\n"
   ]
  },
  {
   "cell_type": "code",
   "execution_count": 67,
   "metadata": {
    "tags": []
   },
   "outputs": [
    {
     "name": "stdout",
     "output_type": "stream",
     "text": [
      "[0, 1, 2, 3, 4, 5, 6, 7, 8, 9]\n"
     ]
    },
    {
     "data": {
      "text/plain": [
       "['p', 'y', 't', 'h', 'o', 'n']"
      ]
     },
     "execution_count": 67,
     "metadata": {},
     "output_type": "execute_result"
    }
   ],
   "source": [
    "# extra: convert to list object type\n",
    "L = list(range(0, 10))\n",
    "print(L)\n",
    "L = list('python')\n",
    "L"
   ]
  },
  {
   "cell_type": "markdown",
   "metadata": {},
   "source": [
    "#### Practices: Shallow copy and deep copy\n",
    "\n",
    "what do you get from the following practices?"
   ]
  },
  {
   "cell_type": "code",
   "execution_count": 39,
   "metadata": {
    "tags": []
   },
   "outputs": [
    {
     "name": "stdout",
     "output_type": "stream",
     "text": [
      "Practice 1: before change\n",
      "L is: [1, 2, 3.5] \n",
      "L1 is: [1, 2, 3.5]\n",
      "Practice 1: after change\n",
      "L is: [1, 2, '3'] \n",
      "L1 is: [1, 2, '3']\n"
     ]
    }
   ],
   "source": [
    "# practice 1\n",
    "L = [1, 2, 3.5]\n",
    "L1 = L\n",
    "print('Practice 1: before change\\nL is: {} \\nL1 is: {}'.format(L, L1))\n",
    "L1[2] = '3'\n",
    "print('Practice 1: after change\\nL is: {} \\nL1 is: {}'.format(L, L1))"
   ]
  },
  {
   "cell_type": "code",
   "execution_count": 68,
   "metadata": {
    "tags": []
   },
   "outputs": [],
   "source": [
    "#practice 2 \n",
    "L = [1, 2, 3.5]\n",
    "L1 = L.copy()\n"
   ]
  },
  {
   "cell_type": "code",
   "execution_count": 70,
   "metadata": {
    "tags": []
   },
   "outputs": [],
   "source": [
    "# extra practice 3 \n",
    "L = [1, 2, 3.5]\n",
    "L1 = L[:] # slicing will create a new list\n"
   ]
  },
  {
   "cell_type": "markdown",
   "metadata": {},
   "source": [
    "## 5. Dictionary creation and operations <a id=\"section5\"/>\n",
    "\n",
    "Flexible **unordered** built-in collection object type. Items are sorted and fetched by **key** instead of by positional offset.\n",
    "```python\n",
    "    D = {'name': 'Tim', 'age': 22}\n",
    "    print(D)\n",
    "\n",
    "    print(D['name']) # (1) accessed by key\n",
    "    D['age'] = 23 # (4) mutable\n",
    "    print(D)\n",
    "```\n",
    "#### Main properties\n",
    "(1) accessed by key\n",
    "\n",
    "(2) unsorted collections of arbitrary objects\n",
    "\n",
    "(3) variable-length\n",
    "\n",
    "(4) **mutable**\n",
    "\n",
    "(5) implemented as **hash tables**\n",
    "\n",
    "#### Dict operations\n",
    "(1) length,: len()\n",
    "\n",
    "(2) membership: in\n",
    "\n",
    "(3) get keys: list(D.keys())\n",
    "\n",
    "(4) deletion: D.pop(key), del D[key]\n",
    "\n",
    "(5) comprehensions"
   ]
  },
  {
   "cell_type": "code",
   "execution_count": 39,
   "metadata": {},
   "outputs": [
    {
     "name": "stdout",
     "output_type": "stream",
     "text": [
      "{'cat': 100, 'dog': 90}\n"
     ]
    },
    {
     "data": {
      "text/plain": [
       "100"
      ]
     },
     "execution_count": 39,
     "metadata": {},
     "output_type": "execute_result"
    }
   ],
   "source": [
    "# define dict using {}\n",
    "wordcnt = {'cat': 100, 'dog': 90} # represent keyword-value pairs\n",
    "print(wordcnt)\n",
    "\n",
    "wordcnt['cat'] # make data acess very fast"
   ]
  },
  {
   "cell_type": "code",
   "execution_count": 40,
   "metadata": {
    "scrolled": true
   },
   "outputs": [
    {
     "data": {
      "text/plain": [
       "['__class__',\n",
       " '__contains__',\n",
       " '__delattr__',\n",
       " '__delitem__',\n",
       " '__dir__',\n",
       " '__doc__',\n",
       " '__eq__',\n",
       " '__format__',\n",
       " '__ge__',\n",
       " '__getattribute__',\n",
       " '__getitem__',\n",
       " '__gt__',\n",
       " '__hash__',\n",
       " '__init__',\n",
       " '__init_subclass__',\n",
       " '__iter__',\n",
       " '__le__',\n",
       " '__len__',\n",
       " '__lt__',\n",
       " '__ne__',\n",
       " '__new__',\n",
       " '__reduce__',\n",
       " '__reduce_ex__',\n",
       " '__repr__',\n",
       " '__setattr__',\n",
       " '__setitem__',\n",
       " '__sizeof__',\n",
       " '__str__',\n",
       " '__subclasshook__',\n",
       " 'clear',\n",
       " 'copy',\n",
       " 'fromkeys',\n",
       " 'get',\n",
       " 'items',\n",
       " 'keys',\n",
       " 'pop',\n",
       " 'popitem',\n",
       " 'setdefault',\n",
       " 'update',\n",
       " 'values']"
      ]
     },
     "execution_count": 40,
     "metadata": {},
     "output_type": "execute_result"
    }
   ],
   "source": [
    "dir(wordcnt)"
   ]
  },
  {
   "cell_type": "code",
   "execution_count": 41,
   "metadata": {},
   "outputs": [
    {
     "data": {
      "text/plain": [
       "dict_keys(['cat', 'dog'])"
      ]
     },
     "execution_count": 41,
     "metadata": {},
     "output_type": "execute_result"
    }
   ],
   "source": [
    "wordcnt.keys()"
   ]
  },
  {
   "cell_type": "markdown",
   "metadata": {},
   "source": [
    "## 6. Tuples <a id=\"section6\" />\n",
    ">A tuple is a collection of objects which is **ordered and immutable**, and it is commonly written as a series of items in **parentheses** ()\n",
    "\n",
    "#### Main properties\n",
    "(1) Ordered collections of arbitrary objects: a left-to-right positional ordering of the items.\n",
    "\n",
    "(2) Access by offset; fetch an item by indexing the list on the object's offset\n",
    "\n",
    "(3) fixed-length\n",
    "\n",
    "(4) **immutable**\n",
    "\n",
    "(5) tuples are arrays"
   ]
  },
  {
   "cell_type": "code",
   "execution_count": 42,
   "metadata": {
    "tags": []
   },
   "outputs": [
    {
     "data": {
      "text/plain": [
       "(1, 2, 3)"
      ]
     },
     "execution_count": 42,
     "metadata": {},
     "output_type": "execute_result"
    }
   ],
   "source": [
    "# Creating a tuple\n",
    "t = (1, 2, 3)\n",
    "t"
   ]
  },
  {
   "cell_type": "code",
   "execution_count": 43,
   "metadata": {
    "tags": []
   },
   "outputs": [
    {
     "name": "stdout",
     "output_type": "stream",
     "text": [
      "(1, 2, 3)\n"
     ]
    }
   ],
   "source": [
    "# Show the created tuple\n",
    "t\n",
    "print(t)"
   ]
  },
  {
   "cell_type": "code",
   "execution_count": 44,
   "metadata": {
    "tags": []
   },
   "outputs": [
    {
     "data": {
      "text/plain": [
       "3"
      ]
     },
     "execution_count": 44,
     "metadata": {},
     "output_type": "execute_result"
    }
   ],
   "source": [
    "# Check the length of the tuple using len(), just like a list\n",
    "len(t)"
   ]
  },
  {
   "cell_type": "code",
   "execution_count": 47,
   "metadata": {
    "tags": []
   },
   "outputs": [
    {
     "data": {
      "text/plain": [
       "('one', 2, 490.2)"
      ]
     },
     "execution_count": 47,
     "metadata": {},
     "output_type": "execute_result"
    }
   ],
   "source": [
    "# We can also mix object types: e.g., strings, integer numbers, floating-point numbers\n",
    "t = ('one', 2, 490.2)\n",
    "\n",
    "# Show\n",
    "t"
   ]
  },
  {
   "cell_type": "code",
   "execution_count": 46,
   "metadata": {
    "tags": []
   },
   "outputs": [
    {
     "data": {
      "text/plain": [
       "('one', 'two', (4, 5), 6, ['r', 100])"
      ]
     },
     "execution_count": 46,
     "metadata": {},
     "output_type": "execute_result"
    }
   ],
   "source": [
    "# Tuples, lists or dictionaries can be nested into other tuples\n",
    "w = ('one', 'two', (4, 5), 6, ['r', 100])\n",
    "w"
   ]
  },
  {
   "cell_type": "code",
   "execution_count": 48,
   "metadata": {
    "tags": []
   },
   "outputs": [
    {
     "data": {
      "text/plain": [
       "()"
      ]
     },
     "execution_count": 48,
     "metadata": {},
     "output_type": "execute_result"
    }
   ],
   "source": [
    "# An empty tuple\n",
    "u = () \n",
    "u"
   ]
  },
  {
   "cell_type": "code",
   "execution_count": 49,
   "metadata": {
    "tags": []
   },
   "outputs": [
    {
     "data": {
      "text/plain": [
       "('thing',)"
      ]
     },
     "execution_count": 49,
     "metadata": {},
     "output_type": "execute_result"
    }
   ],
   "source": [
    "# A 1-item tuple\n",
    "v = ('thing', )    \n",
    "v"
   ]
  },
  {
   "cell_type": "code",
   "execution_count": 50,
   "metadata": {
    "tags": []
   },
   "outputs": [
    {
     "data": {
      "text/plain": [
       "('one', 2, 490.2)"
      ]
     },
     "execution_count": 50,
     "metadata": {},
     "output_type": "execute_result"
    }
   ],
   "source": [
    "#The parentheses () can be omitted in the syntax, and tuples can be created just by listing items separated with commas\n",
    "t = 'one', 2, 490.2\n",
    "t"
   ]
  },
  {
   "cell_type": "code",
   "execution_count": 71,
   "metadata": {
    "tags": []
   },
   "outputs": [],
   "source": [
    "# Use indexing just like in lists and strings\n"
   ]
  },
  {
   "cell_type": "code",
   "execution_count": 72,
   "metadata": {
    "tags": []
   },
   "outputs": [],
   "source": [
    "# Slicing\n"
   ]
  },
  {
   "cell_type": "code",
   "execution_count": 53,
   "metadata": {
    "tags": []
   },
   "outputs": [
    {
     "data": {
      "text/plain": [
       "(1, 'book', 'notes', 4)"
      ]
     },
     "execution_count": 53,
     "metadata": {},
     "output_type": "execute_result"
    }
   ],
   "source": [
    "# Concatenation\n",
    "(1, 'book') + ('notes', 4) "
   ]
  },
  {
   "cell_type": "code",
   "execution_count": 54,
   "metadata": {
    "tags": []
   },
   "outputs": [
    {
     "data": {
      "text/plain": [
       "(1, 'thing', 1, 'thing', 1, 'thing', 1, 'thing')"
      ]
     },
     "execution_count": 54,
     "metadata": {},
     "output_type": "execute_result"
    }
   ],
   "source": [
    "# Repetition\n",
    "(1, 'thing') * 4 "
   ]
  },
  {
   "cell_type": "code",
   "execution_count": 55,
   "metadata": {
    "tags": []
   },
   "outputs": [
    {
     "ename": "TypeError",
     "evalue": "'tuple' object does not support item assignment",
     "output_type": "error",
     "traceback": [
      "\u001b[1;31m---------------------------------------------------------------------------\u001b[0m",
      "\u001b[1;31mTypeError\u001b[0m                                 Traceback (most recent call last)",
      "Cell \u001b[1;32mIn[55], line 3\u001b[0m\n\u001b[0;32m      1\u001b[0m \u001b[38;5;66;03m# Immutability\u001b[39;00m\n\u001b[0;32m      2\u001b[0m \u001b[38;5;66;03m# If we try to change the first element, we will get an error message\u001b[39;00m\n\u001b[1;32m----> 3\u001b[0m t[\u001b[38;5;241m0\u001b[39m] \u001b[38;5;241m=\u001b[39m \u001b[38;5;124m'\u001b[39m\u001b[38;5;124mfour\u001b[39m\u001b[38;5;124m'\u001b[39m\n",
      "\u001b[1;31mTypeError\u001b[0m: 'tuple' object does not support item assignment"
     ]
    }
   ],
   "source": [
    "# Immutability\n",
    "# If we try to change the first element, we will get an error message\n",
    "t[0] = 'four'"
   ]
  },
  {
   "cell_type": "code",
   "execution_count": 57,
   "metadata": {
    "tags": []
   },
   "outputs": [
    {
     "data": {
      "text/plain": [
       "('one', 7, 490.2)"
      ]
     },
     "execution_count": 57,
     "metadata": {},
     "output_type": "execute_result"
    }
   ],
   "source": [
    "# instead we have to create a new tuple to update contents\n",
    "t = (t[0], 7, t[2])\n",
    "t"
   ]
  },
  {
   "cell_type": "markdown",
   "metadata": {},
   "source": [
    "## 7 Sets <a id=\"section6\" />\n",
    ">  A ***set*** is a collection of **unique objects** which is **unordered and immutable**, and are constructed by using the set() function.\n",
    "\n",
    "Sets support operations corresponding to mathematical set theory (intersection, union, etc.). By definition, an item appears only once in a set, no matter how many times it is added. \n",
    "\n",
    "Because sets are collections of objects, they share some behavior with lists and dictionaries. For example, sets are iterable, can grow and shrink on demand, and may contain a variety of object types. \n",
    "\n",
    "However, since sets are unordered and do not map keys to values, they are neither a sequence (list) or mapping type (dict).\n",
    "\n",
    "Sets have a variety of applications, especially in numeric and database-focused work."
   ]
  },
  {
   "cell_type": "code",
   "execution_count": 59,
   "metadata": {
    "tags": []
   },
   "outputs": [
    {
     "data": {
      "text/plain": [
       "{'a', 'c', 'e'}"
      ]
     },
     "execution_count": 59,
     "metadata": {},
     "output_type": "execute_result"
    }
   ],
   "source": [
    "x = set('abcde')\n",
    "y = set('bdxyz')\n",
    "# Difference\n",
    "x - y"
   ]
  },
  {
   "cell_type": "code",
   "execution_count": 60,
   "metadata": {
    "tags": []
   },
   "outputs": [
    {
     "data": {
      "text/plain": [
       "{'a', 'b', 'c', 'd', 'e', 'x', 'y', 'z'}"
      ]
     },
     "execution_count": 60,
     "metadata": {},
     "output_type": "execute_result"
    }
   ],
   "source": [
    "# Union\n",
    "x | y"
   ]
  },
  {
   "cell_type": "code",
   "execution_count": 61,
   "metadata": {
    "tags": []
   },
   "outputs": [
    {
     "data": {
      "text/plain": [
       "{'b', 'd'}"
      ]
     },
     "execution_count": 61,
     "metadata": {},
     "output_type": "execute_result"
    }
   ],
   "source": [
    "# Intersection\n",
    "x & y"
   ]
  },
  {
   "cell_type": "code",
   "execution_count": 62,
   "metadata": {
    "tags": []
   },
   "outputs": [
    {
     "data": {
      "text/plain": [
       "(False, False)"
      ]
     },
     "execution_count": 62,
     "metadata": {},
     "output_type": "execute_result"
    }
   ],
   "source": [
    "# Superset, subset\n",
    "x > y, x < y"
   ]
  },
  {
   "cell_type": "code",
   "execution_count": 63,
   "metadata": {
    "collapsed": true,
    "jupyter": {
     "outputs_hidden": true
    },
    "tags": []
   },
   "outputs": [
    {
     "data": {
      "text/plain": [
       "True"
      ]
     },
     "execution_count": 63,
     "metadata": {},
     "output_type": "execute_result"
    }
   ],
   "source": [
    "# Membership of a set\n",
    "'e' in x"
   ]
  },
  {
   "cell_type": "code",
   "execution_count": null,
   "metadata": {},
   "outputs": [],
   "source": [
    "z = set()\n",
    "# Add to set with the add() method\n",
    "z.add(1)\n",
    "print(z)\n",
    "# Add a different element\n",
    "z.add(2)\n",
    "print(z)\n",
    "# Try to add the same element\n",
    "z.add(1)\n",
    "print(z)"
   ]
  },
  {
   "cell_type": "code",
   "execution_count": null,
   "metadata": {},
   "outputs": [],
   "source": [
    "# Delete one item\n",
    "z.remove('b') \n",
    "z"
   ]
  }
 ],
 "metadata": {
  "kernelspec": {
   "display_name": "base",
   "language": "python",
   "name": "python3"
  },
  "language_info": {
   "codemirror_mode": {
    "name": "ipython",
    "version": 3
   },
   "file_extension": ".py",
   "mimetype": "text/x-python",
   "name": "python",
   "nbconvert_exporter": "python",
   "pygments_lexer": "ipython3",
   "version": "3.12.7"
  }
 },
 "nbformat": 4,
 "nbformat_minor": 4
}
