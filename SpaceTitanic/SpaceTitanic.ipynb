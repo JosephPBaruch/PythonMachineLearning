{
 "cells": [
  {
   "cell_type": "code",
   "execution_count": 23,
   "id": "5cf61db6-eb6f-4cb8-8240-c17f1017ae31",
   "metadata": {},
   "outputs": [],
   "source": [
    "# import libraries\n",
    "import pandas as pd"
   ]
  },
  {
   "cell_type": "markdown",
   "id": "ca6b08d2-6411-4b3e-857f-0c1a12d544f7",
   "metadata": {},
   "source": [
    "### Retrieve and View Data"
   ]
  },
  {
   "cell_type": "code",
   "execution_count": 75,
   "id": "d272c94d-25d0-4b5f-b387-c13c084a72cf",
   "metadata": {},
   "outputs": [],
   "source": [
    "# Read in the train and test data\n",
    "train = pd.read_csv('./spaceship-titanic/train.csv')\n",
    "test = pd.read_csv('./spaceship-titanic/test.csv')\n",
    "sampleSubmission = pd.read_csv('./spaceship-titanic/sample_submission.csv')"
   ]
  },
  {
   "cell_type": "code",
   "execution_count": 16,
   "id": "a82c2cdb-4f46-43f1-9bc4-363bd83f63e1",
   "metadata": {},
   "outputs": [
    {
     "name": "stdout",
     "output_type": "stream",
     "text": [
      "  PassengerId HomePlanet CryoSleep  Cabin  Destination   Age    VIP  \\\n",
      "0     0001_01     Europa     False  B/0/P  TRAPPIST-1e  39.0  False   \n",
      "1     0002_01      Earth     False  F/0/S  TRAPPIST-1e  24.0  False   \n",
      "2     0003_01     Europa     False  A/0/S  TRAPPIST-1e  58.0   True   \n",
      "3     0003_02     Europa     False  A/0/S  TRAPPIST-1e  33.0  False   \n",
      "4     0004_01      Earth     False  F/1/S  TRAPPIST-1e  16.0  False   \n",
      "\n",
      "   RoomService  FoodCourt  ShoppingMall     Spa  VRDeck               Name  \\\n",
      "0          0.0        0.0           0.0     0.0     0.0    Maham Ofracculy   \n",
      "1        109.0        9.0          25.0   549.0    44.0       Juanna Vines   \n",
      "2         43.0     3576.0           0.0  6715.0    49.0      Altark Susent   \n",
      "3          0.0     1283.0         371.0  3329.0   193.0       Solam Susent   \n",
      "4        303.0       70.0         151.0   565.0     2.0  Willy Santantines   \n",
      "\n",
      "   Transported  \n",
      "0        False  \n",
      "1         True  \n",
      "2        False  \n",
      "3        False  \n",
      "4         True  \n"
     ]
    }
   ],
   "source": [
    "print(train.head())"
   ]
  },
  {
   "cell_type": "code",
   "execution_count": 18,
   "id": "9b069c0d-afda-40e6-a4d0-062e42fb5338",
   "metadata": {},
   "outputs": [
    {
     "name": "stdout",
     "output_type": "stream",
     "text": [
      "  PassengerId HomePlanet CryoSleep  Cabin  Destination   Age    VIP  \\\n",
      "0     0013_01      Earth      True  G/3/S  TRAPPIST-1e  27.0  False   \n",
      "1     0018_01      Earth     False  F/4/S  TRAPPIST-1e  19.0  False   \n",
      "2     0019_01     Europa      True  C/0/S  55 Cancri e  31.0  False   \n",
      "3     0021_01     Europa     False  C/1/S  TRAPPIST-1e  38.0  False   \n",
      "4     0023_01      Earth     False  F/5/S  TRAPPIST-1e  20.0  False   \n",
      "\n",
      "   RoomService  FoodCourt  ShoppingMall     Spa  VRDeck              Name  \n",
      "0          0.0        0.0           0.0     0.0     0.0   Nelly Carsoning  \n",
      "1          0.0        9.0           0.0  2823.0     0.0    Lerome Peckers  \n",
      "2          0.0        0.0           0.0     0.0     0.0   Sabih Unhearfus  \n",
      "3          0.0     6652.0           0.0   181.0   585.0  Meratz Caltilter  \n",
      "4         10.0        0.0         635.0     0.0     0.0   Brence Harperez  \n"
     ]
    }
   ],
   "source": [
    "print(test.head())"
   ]
  },
  {
   "cell_type": "code",
   "execution_count": 41,
   "id": "d1c8587e-60c4-48e9-a560-9a4990118fcd",
   "metadata": {},
   "outputs": [
    {
     "name": "stdout",
     "output_type": "stream",
     "text": [
      "  PassengerId  Transported\n",
      "0     0013_01        False\n",
      "1     0018_01        False\n",
      "2     0019_01        False\n",
      "3     0021_01        False\n",
      "4     0023_01        False\n"
     ]
    }
   ],
   "source": [
    "print(sampleSubmission.head())"
   ]
  },
  {
   "cell_type": "markdown",
   "id": "33f660d0-b9af-4fac-b8c5-4856fbc1bc05",
   "metadata": {},
   "source": [
    "#### Notes on Data\n",
    "> Predicting if the passenger was simiply transported or not (boolean)\n",
    "> This is because that is the only values in the train which isn't in the test"
   ]
  },
  {
   "cell_type": "markdown",
   "id": "cf6d7721-6df0-4c67-aeb3-70a39c86e880",
   "metadata": {},
   "source": [
    "### Process Data"
   ]
  },
  {
   "cell_type": "markdown",
   "id": "cd8b3e4c-da11-40c5-a86e-b223ab9443c4",
   "metadata": {
    "jp-MarkdownHeadingCollapsed": true
   },
   "source": [
    "#### Notes\n",
    "> Now we need to remove unneeded values and turn non-numeric values into numbers\n",
    "\n",
    "##### Remove\n",
    "- Name\n",
    "\n",
    "##### Turn into Numbers\n",
    "- Destination\n",
    "- Cabin\n",
    "- VIP\n",
    "- CryoSleep\n",
    "- HomePlanet"
   ]
  },
  {
   "cell_type": "markdown",
   "id": "f4f1cd1e-6c3c-49df-b7c6-00a9ba709789",
   "metadata": {},
   "source": [
    "#### Remove Name"
   ]
  },
  {
   "cell_type": "code",
   "execution_count": 53,
   "id": "47fd8dd8-9ea5-4596-b28d-776bf20cdb18",
   "metadata": {},
   "outputs": [],
   "source": [
    "train = train.drop(columns=[\"Name\"])\n",
    "test = test.drop(columns=[\"Name\"])"
   ]
  },
  {
   "cell_type": "markdown",
   "id": "39bfa2ef-fd3c-4fb2-a888-6eabadd976a8",
   "metadata": {},
   "source": [
    "#### Destination to Number"
   ]
  },
  {
   "cell_type": "code",
   "execution_count": 62,
   "id": "77ec6d88-58d1-4b5b-acfa-d99dccef2c64",
   "metadata": {},
   "outputs": [
    {
     "name": "stdout",
     "output_type": "stream",
     "text": [
      "['TRAPPIST-1e' 'PSO J318.5-22' '55 Cancri e' nan]\n"
     ]
    }
   ],
   "source": [
    "uniqueDestinations = train['Destination'].unique()\n",
    "print(uniqueDestinations)\n",
    "# Looks like there are some missing values that I need to account for"
   ]
  },
  {
   "cell_type": "code",
   "execution_count": 77,
   "id": "4221fde6-250f-409e-8d0c-df626ef30a70",
   "metadata": {},
   "outputs": [],
   "source": [
    "train['Destination'], _ = pd.factorize(train['Destination'])"
   ]
  },
  {
   "cell_type": "code",
   "execution_count": 81,
   "id": "c1debfc9-83c4-487f-be4d-b6b23d00bb79",
   "metadata": {},
   "outputs": [],
   "source": [
    "test['Destination'], _ = pd.factorize(test['Destination'])"
   ]
  },
  {
   "cell_type": "code",
   "execution_count": 83,
   "id": "2efa89d7-3054-4758-9ce9-8a84768c7dab",
   "metadata": {},
   "outputs": [
    {
     "name": "stdout",
     "output_type": "stream",
     "text": [
      "[ 0  1  2 -1]\n"
     ]
    }
   ],
   "source": [
    "# Confirm there should be 4 different values\n",
    "uniqueDestinationsNumbers = train['Destination'].unique()\n",
    "print(uniqueDestinationsNumbers)"
   ]
  },
  {
   "cell_type": "code",
   "execution_count": null,
   "id": "a77be298-195c-418e-8831-9a24207700c6",
   "metadata": {},
   "outputs": [],
   "source": []
  }
 ],
 "metadata": {
  "kernelspec": {
   "display_name": "Python [conda env:base] *",
   "language": "python",
   "name": "conda-base-py"
  },
  "language_info": {
   "codemirror_mode": {
    "name": "ipython",
    "version": 3
   },
   "file_extension": ".py",
   "mimetype": "text/x-python",
   "name": "python",
   "nbconvert_exporter": "python",
   "pygments_lexer": "ipython3",
   "version": "3.12.7"
  }
 },
 "nbformat": 4,
 "nbformat_minor": 5
}
