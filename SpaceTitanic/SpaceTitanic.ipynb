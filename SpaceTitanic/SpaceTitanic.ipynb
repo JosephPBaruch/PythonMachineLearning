{
 "cells": [
  {
   "cell_type": "markdown",
   "id": "7d164f8d",
   "metadata": {},
   "source": [
    "# Space Titanic\n",
    "> Predict if passengers of an intergalatic transporter transported its passengers or not. \n",
    "\n",
    "## Current Task\n",
    "- Create more parameters from cabin and passengerId \n",
    "- Increase the accuracy (research solutions)\n",
    "    - Is the data properly cleaned? \n",
    "    - Am I using the correct type of model? \n",
    "    - What hyperparameters should I be using"
   ]
  },
  {
   "cell_type": "code",
   "execution_count": 398,
   "id": "5cf61db6-eb6f-4cb8-8240-c17f1017ae31",
   "metadata": {},
   "outputs": [],
   "source": [
    "# import libraries\n",
    "import pandas as pd\n",
    "from sklearn.model_selection import train_test_split\n",
    "from sklearn.ensemble import RandomForestClassifier\n",
    "from sklearn.model_selection import GridSearchCV\n",
    "from sklearn.metrics import accuracy_score, classification_report"
   ]
  },
  {
   "cell_type": "markdown",
   "id": "ca6b08d2-6411-4b3e-857f-0c1a12d544f7",
   "metadata": {},
   "source": [
    "### Retrieve and View Data"
   ]
  },
  {
   "cell_type": "code",
   "execution_count": 399,
   "id": "d272c94d-25d0-4b5f-b387-c13c084a72cf",
   "metadata": {},
   "outputs": [],
   "source": [
    "# Read in the train and test data\n",
    "train = pd.read_csv('./spaceship-titanic/train.csv')\n",
    "test = pd.read_csv('./spaceship-titanic/test.csv')\n",
    "sampleSubmission = pd.read_csv('./spaceship-titanic/sample_submission.csv')"
   ]
  },
  {
   "cell_type": "markdown",
   "id": "974b4aa4",
   "metadata": {},
   "source": [
    "#### FIll in missing"
   ]
  },
  {
   "cell_type": "code",
   "execution_count": 400,
   "id": "937b8458",
   "metadata": {},
   "outputs": [],
   "source": [
    "train.fillna(0, inplace=True)\n",
    "test.fillna(0, inplace=True)"
   ]
  },
  {
   "cell_type": "markdown",
   "id": "33f660d0-b9af-4fac-b8c5-4856fbc1bc05",
   "metadata": {},
   "source": [
    "#### Notes on Data\n",
    "> Predicting if the passenger was simiply transported or not (boolean).\n",
    "> This is because that is the only values in the train which isn't in the test"
   ]
  },
  {
   "cell_type": "markdown",
   "id": "cf6d7721-6df0-4c67-aeb3-70a39c86e880",
   "metadata": {},
   "source": [
    "### Process Data"
   ]
  },
  {
   "cell_type": "markdown",
   "id": "cd8b3e4c-da11-40c5-a86e-b223ab9443c4",
   "metadata": {
    "jp-MarkdownHeadingCollapsed": true
   },
   "source": [
    "#### Notes\n",
    "> Now we need to remove unneeded values and turn non-numeric values into numbers\n",
    "\n",
    "##### Remove\n",
    "- Name\n",
    "- PassengerId (removed on test later)\n",
    "- Cabin\n",
    "\n",
    "##### Turn into Numbers\n",
    "- Destination\n",
    "- Cabin\n",
    "- VIP\n",
    "- CryoSleep\n",
    "- HomePlanet"
   ]
  },
  {
   "cell_type": "markdown",
   "id": "f4f1cd1e-6c3c-49df-b7c6-00a9ba709789",
   "metadata": {},
   "source": [
    "#### Remove Name"
   ]
  },
  {
   "cell_type": "code",
   "execution_count": 401,
   "id": "47fd8dd8-9ea5-4596-b28d-776bf20cdb18",
   "metadata": {},
   "outputs": [],
   "source": [
    "train = train.drop(columns=[\"Name\"])\n",
    "train = train.drop(columns=\"PassengerId\")\n",
    "test = test.drop(columns=[\"Name\"])"
   ]
  },
  {
   "cell_type": "markdown",
   "id": "246cdb55",
   "metadata": {},
   "source": [
    "#### Remove Cabin"
   ]
  },
  {
   "cell_type": "code",
   "execution_count": 402,
   "id": "d836c575",
   "metadata": {},
   "outputs": [],
   "source": [
    "# Since there are so many different cabins and I don't know what to do yet, I will delete them. Get the best possible working for now.\n",
    "train = train.drop(columns='Cabin')\n",
    "test = test.drop(columns='Cabin')"
   ]
  },
  {
   "cell_type": "markdown",
   "id": "39bfa2ef-fd3c-4fb2-a888-6eabadd976a8",
   "metadata": {},
   "source": [
    "#### Destination to Number"
   ]
  },
  {
   "cell_type": "code",
   "execution_count": 403,
   "id": "77ec6d88-58d1-4b5b-acfa-d99dccef2c64",
   "metadata": {},
   "outputs": [
    {
     "name": "stdout",
     "output_type": "stream",
     "text": [
      "['TRAPPIST-1e' 'PSO J318.5-22' '55 Cancri e' 0]\n"
     ]
    }
   ],
   "source": [
    "uniqueDestinations = train['Destination'].unique()\n",
    "print(uniqueDestinations)\n",
    "# Looks like there are some missing values that I need to account for"
   ]
  },
  {
   "cell_type": "code",
   "execution_count": 404,
   "id": "4221fde6-250f-409e-8d0c-df626ef30a70",
   "metadata": {},
   "outputs": [],
   "source": [
    "train['Destination'], _ = pd.factorize(train['Destination'])"
   ]
  },
  {
   "cell_type": "code",
   "execution_count": 405,
   "id": "c1debfc9-83c4-487f-be4d-b6b23d00bb79",
   "metadata": {},
   "outputs": [],
   "source": [
    "test['Destination'], _ = pd.factorize(test['Destination'])"
   ]
  },
  {
   "cell_type": "code",
   "execution_count": 406,
   "id": "2efa89d7-3054-4758-9ce9-8a84768c7dab",
   "metadata": {},
   "outputs": [
    {
     "name": "stdout",
     "output_type": "stream",
     "text": [
      "[0 1 2 3]\n"
     ]
    }
   ],
   "source": [
    "# Confirm there should be 4 different values\n",
    "uniqueDestinationsNumbers = train['Destination'].unique()\n",
    "print(uniqueDestinationsNumbers)"
   ]
  },
  {
   "cell_type": "markdown",
   "id": "97f6bb06",
   "metadata": {},
   "source": [
    "#### VIP to Number"
   ]
  },
  {
   "cell_type": "code",
   "execution_count": 407,
   "id": "4893edce",
   "metadata": {},
   "outputs": [],
   "source": [
    "train['VIP'], _ = pd.factorize(train['VIP'])\n",
    "test['VIP'], _ = pd.factorize(test['VIP'])"
   ]
  },
  {
   "cell_type": "markdown",
   "id": "1cb52811",
   "metadata": {},
   "source": [
    "#### CryoSleep to Number"
   ]
  },
  {
   "cell_type": "code",
   "execution_count": 408,
   "id": "63f1987c",
   "metadata": {},
   "outputs": [],
   "source": [
    "train['CryoSleep'], _ = pd.factorize(train['CryoSleep'])\n",
    "test['CryoSleep'], _ = pd.factorize(test['CryoSleep'])"
   ]
  },
  {
   "cell_type": "markdown",
   "id": "85075a1a",
   "metadata": {},
   "source": [
    "#### HomePlanet to Number"
   ]
  },
  {
   "cell_type": "code",
   "execution_count": 409,
   "id": "d454bc68",
   "metadata": {},
   "outputs": [],
   "source": [
    "train['HomePlanet'], _ = pd.factorize(train['HomePlanet'])\n",
    "test['HomePlanet'], _ = pd.factorize(test['HomePlanet'])"
   ]
  },
  {
   "cell_type": "markdown",
   "id": "d2650333",
   "metadata": {},
   "source": [
    "#### Split Train Data Set"
   ]
  },
  {
   "cell_type": "code",
   "execution_count": 410,
   "id": "cd326b49",
   "metadata": {},
   "outputs": [],
   "source": [
    "# Shuffle the data and reset the index\n",
    "train = train.sample(frac=1, random_state=42).reset_index(drop=True)\n",
    "\n",
    "Y = train['Transported']\n",
    "\n",
    "X = train.drop(columns='Transported')\n",
    "\n",
    "\n",
    "X_train, X_test, y_train, y_test = train_test_split(X, Y, test_size=0.2, random_state=42)"
   ]
  },
  {
   "cell_type": "markdown",
   "id": "889d091d",
   "metadata": {},
   "source": [
    "### Train"
   ]
  },
  {
   "cell_type": "code",
   "execution_count": null,
   "id": "354b7d15",
   "metadata": {},
   "outputs": [
    {
     "name": "stdout",
     "output_type": "stream",
     "text": [
      "Accuracy: 0.79\n",
      "              precision    recall  f1-score   support\n",
      "\n",
      "       False       0.81      0.76      0.79       887\n",
      "        True       0.77      0.81      0.79       852\n",
      "\n",
      "    accuracy                           0.79      1739\n",
      "   macro avg       0.79      0.79      0.79      1739\n",
      "weighted avg       0.79      0.79      0.79      1739\n",
      "\n"
     ]
    }
   ],
   "source": [
    "# model = RandomForestClassifier(max_depth=30, n_estimators=40, min_samples_split=50, min_samples_leaf=14, random_state=88)\n",
    "model = RandomForestClassifier(random_state=42) # This works better than the one above, even though it has worse accuracy\n",
    "\n",
    "# Train the model\n",
    "model.fit(X_train, y_train)\n",
    "\n",
    "y_pred = model.predict(X_test)\n",
    "\n",
    "# Accuracy\n",
    "accuracy = accuracy_score(y_test, y_pred)\n",
    "print(f\"Accuracy: {accuracy:.2f}\")\n",
    "\n",
    "# Classification report\n",
    "print(classification_report(y_test, y_pred))\n"
   ]
  },
  {
   "cell_type": "markdown",
   "id": "95dc1e7a",
   "metadata": {},
   "source": [
    "### Run Model on test"
   ]
  },
  {
   "cell_type": "code",
   "execution_count": 412,
   "id": "a750b2cd",
   "metadata": {},
   "outputs": [],
   "source": [
    "test_ID = test[\"PassengerId\"]\n",
    "\n",
    "test = test.drop(columns=\"PassengerId\")\n",
    "\n",
    "predictions = model.predict(test)"
   ]
  },
  {
   "cell_type": "markdown",
   "id": "dfe9ba4d",
   "metadata": {},
   "source": [
    "### Format Answer / Create CSV"
   ]
  },
  {
   "cell_type": "code",
   "execution_count": 413,
   "id": "95fcaf4a",
   "metadata": {},
   "outputs": [
    {
     "name": "stdout",
     "output_type": "stream",
     "text": [
      "  PassengerId  Transported\n",
      "0     0013_01         True\n",
      "1     0018_01        False\n",
      "2     0019_01         True\n",
      "3     0021_01         True\n",
      "4     0023_01         True\n"
     ]
    }
   ],
   "source": [
    "Answer = pd.DataFrame({\n",
    "    \"PassengerId\": test_ID,\n",
    "    \"Transported\": predictions\n",
    "})\n",
    "\n",
    "print(Answer.head())"
   ]
  },
  {
   "cell_type": "code",
   "execution_count": 414,
   "id": "6d0dbd79",
   "metadata": {},
   "outputs": [],
   "source": [
    "Answer.to_csv(\"SpaceTitanic_Answer.csv\", index=False)"
   ]
  }
 ],
 "metadata": {
  "kernelspec": {
   "display_name": "base",
   "language": "python",
   "name": "python3"
  },
  "language_info": {
   "codemirror_mode": {
    "name": "ipython",
    "version": 3
   },
   "file_extension": ".py",
   "mimetype": "text/x-python",
   "name": "python",
   "nbconvert_exporter": "python",
   "pygments_lexer": "ipython3",
   "version": "3.12.7"
  }
 },
 "nbformat": 4,
 "nbformat_minor": 5
}
