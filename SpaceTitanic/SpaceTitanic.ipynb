{
 "cells": [
  {
   "cell_type": "markdown",
   "id": "7d164f8d",
   "metadata": {},
   "source": [
    "# Space Titanic\n",
    "> Predict if passengers of an intergalatic transporter transported its passengers or not. \n",
    "\n",
    "## Current Task\n",
    "- Create more parameters from cabin and passengerId \n",
    "- Increase the accuracy (research solutions)\n",
    "    - Is the data properly cleaned? \n",
    "    - Am I using the correct type of model? \n",
    "    - What hyperparameters should I be using"
   ]
  },
  {
   "cell_type": "markdown",
   "id": "d03e1564",
   "metadata": {},
   "source": [
    "#### Understanding the data"
   ]
  },
  {
   "cell_type": "markdown",
   "id": "e0bbddee",
   "metadata": {},
   "source": [
    "![SpaceTitanicImage](<./SpaceTitanicData.png>)"
   ]
  },
  {
   "cell_type": "markdown",
   "id": "75f3d66c",
   "metadata": {},
   "source": [
    "#### Libraries"
   ]
  },
  {
   "cell_type": "code",
   "execution_count": 1,
   "id": "5cf61db6-eb6f-4cb8-8240-c17f1017ae31",
   "metadata": {},
   "outputs": [],
   "source": [
    "# import libraries\n",
    "import pandas as pd\n",
    "from sklearn.model_selection import train_test_split\n",
    "from sklearn.ensemble import RandomForestClassifier\n",
    "\n",
    "from sklearn.metrics import accuracy_score, classification_report"
   ]
  },
  {
   "cell_type": "markdown",
   "id": "ca6b08d2-6411-4b3e-857f-0c1a12d544f7",
   "metadata": {},
   "source": [
    "### Retrieve and View Data"
   ]
  },
  {
   "cell_type": "code",
   "execution_count": 2,
   "id": "d272c94d-25d0-4b5f-b387-c13c084a72cf",
   "metadata": {},
   "outputs": [
    {
     "name": "stdout",
     "output_type": "stream",
     "text": [
      "  PassengerId HomePlanet CryoSleep  Cabin  Destination   Age    VIP  \\\n",
      "0     0001_01     Europa     False  B/0/P  TRAPPIST-1e  39.0  False   \n",
      "1     0002_01      Earth     False  F/0/S  TRAPPIST-1e  24.0  False   \n",
      "2     0003_01     Europa     False  A/0/S  TRAPPIST-1e  58.0   True   \n",
      "3     0003_02     Europa     False  A/0/S  TRAPPIST-1e  33.0  False   \n",
      "4     0004_01      Earth     False  F/1/S  TRAPPIST-1e  16.0  False   \n",
      "\n",
      "   RoomService  FoodCourt  ShoppingMall     Spa  VRDeck               Name  \\\n",
      "0          0.0        0.0           0.0     0.0     0.0    Maham Ofracculy   \n",
      "1        109.0        9.0          25.0   549.0    44.0       Juanna Vines   \n",
      "2         43.0     3576.0           0.0  6715.0    49.0      Altark Susent   \n",
      "3          0.0     1283.0         371.0  3329.0   193.0       Solam Susent   \n",
      "4        303.0       70.0         151.0   565.0     2.0  Willy Santantines   \n",
      "\n",
      "   Transported  \n",
      "0        False  \n",
      "1         True  \n",
      "2        False  \n",
      "3        False  \n",
      "4         True  \n"
     ]
    }
   ],
   "source": [
    "# Read in the train and test data\n",
    "train = pd.read_csv('./spaceship-titanic/train.csv')\n",
    "test = pd.read_csv('./spaceship-titanic/test.csv')\n",
    "sampleSubmission = pd.read_csv('./spaceship-titanic/sample_submission.csv')\n",
    "print(train.head())"
   ]
  },
  {
   "cell_type": "markdown",
   "id": "974b4aa4",
   "metadata": {},
   "source": [
    "#### FIll in missing"
   ]
  },
  {
   "cell_type": "code",
   "execution_count": 3,
   "id": "937b8458",
   "metadata": {},
   "outputs": [],
   "source": [
    "train.fillna(0, inplace=True)\n",
    "test.fillna(0, inplace=True)"
   ]
  },
  {
   "cell_type": "markdown",
   "id": "33f660d0-b9af-4fac-b8c5-4856fbc1bc05",
   "metadata": {},
   "source": [
    "#### Notes on Data\n",
    "> Predicting if the passenger was simiply transported or not (boolean).\n",
    "> This is because that is the only values in the train which isn't in the test"
   ]
  },
  {
   "cell_type": "markdown",
   "id": "cf6d7721-6df0-4c67-aeb3-70a39c86e880",
   "metadata": {},
   "source": [
    "### Process Data"
   ]
  },
  {
   "cell_type": "markdown",
   "id": "cd8b3e4c-da11-40c5-a86e-b223ab9443c4",
   "metadata": {
    "jp-MarkdownHeadingCollapsed": true
   },
   "source": [
    "#### Notes\n",
    "> Now we need to remove unneeded values and turn non-numeric values into numbers\n",
    "\n",
    "##### Remove\n",
    "- Name\n",
    "- PassengerId (removed on test later)\n",
    "- Cabin\n",
    "\n",
    "##### Turn into Numbers\n",
    "- Destination\n",
    "- Cabin\n",
    "- VIP\n",
    "- CryoSleep\n",
    "- HomePlanet"
   ]
  },
  {
   "cell_type": "markdown",
   "id": "8b7b63cf",
   "metadata": {},
   "source": [
    "#### Break Down Cabins"
   ]
  },
  {
   "cell_type": "code",
   "execution_count": 4,
   "id": "6f5f16eb",
   "metadata": {},
   "outputs": [
    {
     "data": {
      "text/html": [
       "<div>\n",
       "<style scoped>\n",
       "    .dataframe tbody tr th:only-of-type {\n",
       "        vertical-align: middle;\n",
       "    }\n",
       "\n",
       "    .dataframe tbody tr th {\n",
       "        vertical-align: top;\n",
       "    }\n",
       "\n",
       "    .dataframe thead th {\n",
       "        text-align: right;\n",
       "    }\n",
       "</style>\n",
       "<table border=\"1\" class=\"dataframe\">\n",
       "  <thead>\n",
       "    <tr style=\"text-align: right;\">\n",
       "      <th></th>\n",
       "      <th>PassengerId</th>\n",
       "      <th>HomePlanet</th>\n",
       "      <th>CryoSleep</th>\n",
       "      <th>Cabin</th>\n",
       "      <th>Destination</th>\n",
       "      <th>Age</th>\n",
       "      <th>VIP</th>\n",
       "      <th>RoomService</th>\n",
       "      <th>FoodCourt</th>\n",
       "      <th>ShoppingMall</th>\n",
       "      <th>Spa</th>\n",
       "      <th>VRDeck</th>\n",
       "      <th>Name</th>\n",
       "      <th>Transported</th>\n",
       "      <th>Deck</th>\n",
       "      <th>Num</th>\n",
       "      <th>Side</th>\n",
       "    </tr>\n",
       "  </thead>\n",
       "  <tbody>\n",
       "    <tr>\n",
       "      <th>0</th>\n",
       "      <td>0001_01</td>\n",
       "      <td>Europa</td>\n",
       "      <td>False</td>\n",
       "      <td>B/0/P</td>\n",
       "      <td>TRAPPIST-1e</td>\n",
       "      <td>39.0</td>\n",
       "      <td>False</td>\n",
       "      <td>0.0</td>\n",
       "      <td>0.0</td>\n",
       "      <td>0.0</td>\n",
       "      <td>0.0</td>\n",
       "      <td>0.0</td>\n",
       "      <td>Maham Ofracculy</td>\n",
       "      <td>False</td>\n",
       "      <td>B</td>\n",
       "      <td>0</td>\n",
       "      <td>P</td>\n",
       "    </tr>\n",
       "    <tr>\n",
       "      <th>1</th>\n",
       "      <td>0002_01</td>\n",
       "      <td>Earth</td>\n",
       "      <td>False</td>\n",
       "      <td>F/0/S</td>\n",
       "      <td>TRAPPIST-1e</td>\n",
       "      <td>24.0</td>\n",
       "      <td>False</td>\n",
       "      <td>109.0</td>\n",
       "      <td>9.0</td>\n",
       "      <td>25.0</td>\n",
       "      <td>549.0</td>\n",
       "      <td>44.0</td>\n",
       "      <td>Juanna Vines</td>\n",
       "      <td>True</td>\n",
       "      <td>F</td>\n",
       "      <td>0</td>\n",
       "      <td>S</td>\n",
       "    </tr>\n",
       "    <tr>\n",
       "      <th>2</th>\n",
       "      <td>0003_01</td>\n",
       "      <td>Europa</td>\n",
       "      <td>False</td>\n",
       "      <td>A/0/S</td>\n",
       "      <td>TRAPPIST-1e</td>\n",
       "      <td>58.0</td>\n",
       "      <td>True</td>\n",
       "      <td>43.0</td>\n",
       "      <td>3576.0</td>\n",
       "      <td>0.0</td>\n",
       "      <td>6715.0</td>\n",
       "      <td>49.0</td>\n",
       "      <td>Altark Susent</td>\n",
       "      <td>False</td>\n",
       "      <td>A</td>\n",
       "      <td>0</td>\n",
       "      <td>S</td>\n",
       "    </tr>\n",
       "    <tr>\n",
       "      <th>3</th>\n",
       "      <td>0003_02</td>\n",
       "      <td>Europa</td>\n",
       "      <td>False</td>\n",
       "      <td>A/0/S</td>\n",
       "      <td>TRAPPIST-1e</td>\n",
       "      <td>33.0</td>\n",
       "      <td>False</td>\n",
       "      <td>0.0</td>\n",
       "      <td>1283.0</td>\n",
       "      <td>371.0</td>\n",
       "      <td>3329.0</td>\n",
       "      <td>193.0</td>\n",
       "      <td>Solam Susent</td>\n",
       "      <td>False</td>\n",
       "      <td>A</td>\n",
       "      <td>0</td>\n",
       "      <td>S</td>\n",
       "    </tr>\n",
       "    <tr>\n",
       "      <th>4</th>\n",
       "      <td>0004_01</td>\n",
       "      <td>Earth</td>\n",
       "      <td>False</td>\n",
       "      <td>F/1/S</td>\n",
       "      <td>TRAPPIST-1e</td>\n",
       "      <td>16.0</td>\n",
       "      <td>False</td>\n",
       "      <td>303.0</td>\n",
       "      <td>70.0</td>\n",
       "      <td>151.0</td>\n",
       "      <td>565.0</td>\n",
       "      <td>2.0</td>\n",
       "      <td>Willy Santantines</td>\n",
       "      <td>True</td>\n",
       "      <td>F</td>\n",
       "      <td>1</td>\n",
       "      <td>S</td>\n",
       "    </tr>\n",
       "  </tbody>\n",
       "</table>\n",
       "</div>"
      ],
      "text/plain": [
       "  PassengerId HomePlanet CryoSleep  Cabin  Destination   Age    VIP  \\\n",
       "0     0001_01     Europa     False  B/0/P  TRAPPIST-1e  39.0  False   \n",
       "1     0002_01      Earth     False  F/0/S  TRAPPIST-1e  24.0  False   \n",
       "2     0003_01     Europa     False  A/0/S  TRAPPIST-1e  58.0   True   \n",
       "3     0003_02     Europa     False  A/0/S  TRAPPIST-1e  33.0  False   \n",
       "4     0004_01      Earth     False  F/1/S  TRAPPIST-1e  16.0  False   \n",
       "\n",
       "   RoomService  FoodCourt  ShoppingMall     Spa  VRDeck               Name  \\\n",
       "0          0.0        0.0           0.0     0.0     0.0    Maham Ofracculy   \n",
       "1        109.0        9.0          25.0   549.0    44.0       Juanna Vines   \n",
       "2         43.0     3576.0           0.0  6715.0    49.0      Altark Susent   \n",
       "3          0.0     1283.0         371.0  3329.0   193.0       Solam Susent   \n",
       "4        303.0       70.0         151.0   565.0     2.0  Willy Santantines   \n",
       "\n",
       "   Transported Deck Num Side  \n",
       "0        False    B   0    P  \n",
       "1         True    F   0    S  \n",
       "2        False    A   0    S  \n",
       "3        False    A   0    S  \n",
       "4         True    F   1    S  "
      ]
     },
     "execution_count": 4,
     "metadata": {},
     "output_type": "execute_result"
    }
   ],
   "source": [
    "cabinTrain = train['Cabin']\n",
    "\n",
    "deck = []\n",
    "num = []\n",
    "side = []\n",
    "\n",
    "\n",
    "for cabin in cabinTrain:\n",
    "    if isinstance(cabin, str):  # Ensure cabin is not NaN and is a valid string\n",
    "        deck.append(cabin[0])   # Index 0 for deck\n",
    "        num.append(cabin[2])    # Index 2 for num\n",
    "        side.append(cabin[4])   # Index 4 for side\n",
    "    else:\n",
    "        # Handle cases where the value is NaN or invalid\n",
    "        deck.append(None)\n",
    "        num.append(None)\n",
    "        side.append(None)\n",
    "\n",
    "train[\"Deck\"] = deck\n",
    "train[\"Num\"] = num\n",
    "train[\"Side\"] = side\n",
    "\n",
    "train.head()"
   ]
  },
  {
   "cell_type": "code",
   "execution_count": 5,
   "id": "f9758ac3",
   "metadata": {},
   "outputs": [],
   "source": [
    "cabinTest = test['Cabin']\n",
    "\n",
    "deck = []\n",
    "num = []\n",
    "side = []\n",
    "\n",
    "\n",
    "for cabin in cabinTest:\n",
    "    if isinstance(cabin, str):  # Ensure cabin is not NaN and is a valid string\n",
    "        deck.append(cabin[0])   # Index 0 for deck\n",
    "        num.append(cabin[2])    # Index 2 for num\n",
    "        side.append(cabin[4])   # Index 4 for side\n",
    "    else:\n",
    "        # Handle cases where the value is NaN or invalid\n",
    "        deck.append(None)\n",
    "        num.append(None)\n",
    "        side.append(None)\n",
    "\n",
    "test[\"Deck\"] = deck\n",
    "test[\"Num\"] = num\n",
    "test[\"Side\"] = side"
   ]
  },
  {
   "cell_type": "markdown",
   "id": "f4f1cd1e-6c3c-49df-b7c6-00a9ba709789",
   "metadata": {},
   "source": [
    "#### Remove Name"
   ]
  },
  {
   "cell_type": "code",
   "execution_count": 6,
   "id": "47fd8dd8-9ea5-4596-b28d-776bf20cdb18",
   "metadata": {},
   "outputs": [],
   "source": [
    "train = train.drop(columns=[\"Name\"])\n",
    "train = train.drop(columns=\"PassengerId\")\n",
    "test = test.drop(columns=[\"Name\"])\n",
    "\n",
    "train = train.drop(columns=\"Cabin\")\n",
    "test = test.drop(columns=\"Cabin\")\n"
   ]
  },
  {
   "cell_type": "markdown",
   "id": "39bfa2ef-fd3c-4fb2-a888-6eabadd976a8",
   "metadata": {},
   "source": [
    "#### Destination to Number"
   ]
  },
  {
   "cell_type": "code",
   "execution_count": 7,
   "id": "77ec6d88-58d1-4b5b-acfa-d99dccef2c64",
   "metadata": {},
   "outputs": [
    {
     "name": "stdout",
     "output_type": "stream",
     "text": [
      "['TRAPPIST-1e' 'PSO J318.5-22' '55 Cancri e' 0]\n"
     ]
    }
   ],
   "source": [
    "uniqueDestinations = train['Destination'].unique()\n",
    "print(uniqueDestinations)\n",
    "# Looks like there are some missing values that I need to account for"
   ]
  },
  {
   "cell_type": "code",
   "execution_count": 8,
   "id": "4221fde6-250f-409e-8d0c-df626ef30a70",
   "metadata": {},
   "outputs": [],
   "source": [
    "train['Destination'], _ = pd.factorize(train['Destination'])"
   ]
  },
  {
   "cell_type": "code",
   "execution_count": 9,
   "id": "c1debfc9-83c4-487f-be4d-b6b23d00bb79",
   "metadata": {},
   "outputs": [],
   "source": [
    "test['Destination'], _ = pd.factorize(test['Destination'])"
   ]
  },
  {
   "cell_type": "code",
   "execution_count": 10,
   "id": "2efa89d7-3054-4758-9ce9-8a84768c7dab",
   "metadata": {},
   "outputs": [
    {
     "name": "stdout",
     "output_type": "stream",
     "text": [
      "[0 1 2 3]\n"
     ]
    }
   ],
   "source": [
    "# Confirm there should be 4 different values\n",
    "uniqueDestinationsNumbers = train['Destination'].unique()\n",
    "print(uniqueDestinationsNumbers)"
   ]
  },
  {
   "cell_type": "code",
   "execution_count": 11,
   "id": "f80feb51",
   "metadata": {},
   "outputs": [],
   "source": [
    "# Deck Side\n",
    "train['Deck'], _ = pd.factorize(train['Deck'])\n",
    "train['Deck'], _ = pd.factorize(train['Deck'])\n",
    "\n",
    "test['Side'], _ = pd.factorize(test['Side'])\n",
    "test['Side'], _ = pd.factorize(test['Side'])"
   ]
  },
  {
   "cell_type": "markdown",
   "id": "97f6bb06",
   "metadata": {},
   "source": [
    "#### VIP to Number"
   ]
  },
  {
   "cell_type": "code",
   "execution_count": 12,
   "id": "4893edce",
   "metadata": {},
   "outputs": [],
   "source": [
    "train['VIP'], _ = pd.factorize(train['VIP'])\n",
    "test['VIP'], _ = pd.factorize(test['VIP'])"
   ]
  },
  {
   "cell_type": "markdown",
   "id": "1cb52811",
   "metadata": {},
   "source": [
    "#### CryoSleep to Number"
   ]
  },
  {
   "cell_type": "code",
   "execution_count": 13,
   "id": "63f1987c",
   "metadata": {},
   "outputs": [],
   "source": [
    "train['CryoSleep'], _ = pd.factorize(train['CryoSleep'])\n",
    "test['CryoSleep'], _ = pd.factorize(test['CryoSleep'])"
   ]
  },
  {
   "cell_type": "markdown",
   "id": "85075a1a",
   "metadata": {},
   "source": [
    "#### HomePlanet to Number"
   ]
  },
  {
   "cell_type": "code",
   "execution_count": 14,
   "id": "d454bc68",
   "metadata": {},
   "outputs": [],
   "source": [
    "train['HomePlanet'], _ = pd.factorize(train['HomePlanet'])\n",
    "test['HomePlanet'], _ = pd.factorize(test['HomePlanet'])"
   ]
  },
  {
   "cell_type": "code",
   "execution_count": 15,
   "id": "98cc86a7",
   "metadata": {},
   "outputs": [
    {
     "name": "stderr",
     "output_type": "stream",
     "text": [
      "/var/folders/3v/q192mwhs5095dds9n1kjhyb80000gn/T/ipykernel_37487/4112136542.py:1: FutureWarning: DataFrame.applymap has been deprecated. Use DataFrame.map instead.\n",
      "  train = train.applymap(lambda x: x.replace('/', '0') if isinstance(x, str) else x)\n",
      "/var/folders/3v/q192mwhs5095dds9n1kjhyb80000gn/T/ipykernel_37487/4112136542.py:2: FutureWarning: DataFrame.applymap has been deprecated. Use DataFrame.map instead.\n",
      "  test = test.applymap(lambda x: x.replace('/', '0') if isinstance(x, str) else x)\n",
      "/var/folders/3v/q192mwhs5095dds9n1kjhyb80000gn/T/ipykernel_37487/4112136542.py:5: FutureWarning: DataFrame.applymap has been deprecated. Use DataFrame.map instead.\n",
      "  train = train.applymap(lambda x: pd.to_numeric(x, errors='coerce'))\n"
     ]
    },
    {
     "data": {
      "text/html": [
       "<div>\n",
       "<style scoped>\n",
       "    .dataframe tbody tr th:only-of-type {\n",
       "        vertical-align: middle;\n",
       "    }\n",
       "\n",
       "    .dataframe tbody tr th {\n",
       "        vertical-align: top;\n",
       "    }\n",
       "\n",
       "    .dataframe thead th {\n",
       "        text-align: right;\n",
       "    }\n",
       "</style>\n",
       "<table border=\"1\" class=\"dataframe\">\n",
       "  <thead>\n",
       "    <tr style=\"text-align: right;\">\n",
       "      <th></th>\n",
       "      <th>HomePlanet</th>\n",
       "      <th>CryoSleep</th>\n",
       "      <th>Destination</th>\n",
       "      <th>Age</th>\n",
       "      <th>VIP</th>\n",
       "      <th>RoomService</th>\n",
       "      <th>FoodCourt</th>\n",
       "      <th>ShoppingMall</th>\n",
       "      <th>Spa</th>\n",
       "      <th>VRDeck</th>\n",
       "      <th>Transported</th>\n",
       "      <th>Deck</th>\n",
       "      <th>Num</th>\n",
       "      <th>Side</th>\n",
       "    </tr>\n",
       "  </thead>\n",
       "  <tbody>\n",
       "    <tr>\n",
       "      <th>0</th>\n",
       "      <td>0</td>\n",
       "      <td>0</td>\n",
       "      <td>0</td>\n",
       "      <td>39.0</td>\n",
       "      <td>0</td>\n",
       "      <td>0.0</td>\n",
       "      <td>0.0</td>\n",
       "      <td>0.0</td>\n",
       "      <td>0.0</td>\n",
       "      <td>0.0</td>\n",
       "      <td>False</td>\n",
       "      <td>0</td>\n",
       "      <td>0.0</td>\n",
       "      <td>NaN</td>\n",
       "    </tr>\n",
       "    <tr>\n",
       "      <th>1</th>\n",
       "      <td>1</td>\n",
       "      <td>0</td>\n",
       "      <td>0</td>\n",
       "      <td>24.0</td>\n",
       "      <td>0</td>\n",
       "      <td>109.0</td>\n",
       "      <td>9.0</td>\n",
       "      <td>25.0</td>\n",
       "      <td>549.0</td>\n",
       "      <td>44.0</td>\n",
       "      <td>True</td>\n",
       "      <td>1</td>\n",
       "      <td>0.0</td>\n",
       "      <td>NaN</td>\n",
       "    </tr>\n",
       "    <tr>\n",
       "      <th>2</th>\n",
       "      <td>0</td>\n",
       "      <td>0</td>\n",
       "      <td>0</td>\n",
       "      <td>58.0</td>\n",
       "      <td>1</td>\n",
       "      <td>43.0</td>\n",
       "      <td>3576.0</td>\n",
       "      <td>0.0</td>\n",
       "      <td>6715.0</td>\n",
       "      <td>49.0</td>\n",
       "      <td>False</td>\n",
       "      <td>2</td>\n",
       "      <td>0.0</td>\n",
       "      <td>NaN</td>\n",
       "    </tr>\n",
       "    <tr>\n",
       "      <th>3</th>\n",
       "      <td>0</td>\n",
       "      <td>0</td>\n",
       "      <td>0</td>\n",
       "      <td>33.0</td>\n",
       "      <td>0</td>\n",
       "      <td>0.0</td>\n",
       "      <td>1283.0</td>\n",
       "      <td>371.0</td>\n",
       "      <td>3329.0</td>\n",
       "      <td>193.0</td>\n",
       "      <td>False</td>\n",
       "      <td>2</td>\n",
       "      <td>0.0</td>\n",
       "      <td>NaN</td>\n",
       "    </tr>\n",
       "    <tr>\n",
       "      <th>4</th>\n",
       "      <td>1</td>\n",
       "      <td>0</td>\n",
       "      <td>0</td>\n",
       "      <td>16.0</td>\n",
       "      <td>0</td>\n",
       "      <td>303.0</td>\n",
       "      <td>70.0</td>\n",
       "      <td>151.0</td>\n",
       "      <td>565.0</td>\n",
       "      <td>2.0</td>\n",
       "      <td>True</td>\n",
       "      <td>1</td>\n",
       "      <td>1.0</td>\n",
       "      <td>NaN</td>\n",
       "    </tr>\n",
       "  </tbody>\n",
       "</table>\n",
       "</div>"
      ],
      "text/plain": [
       "   HomePlanet  CryoSleep  Destination   Age  VIP  RoomService  FoodCourt  \\\n",
       "0           0          0            0  39.0    0          0.0        0.0   \n",
       "1           1          0            0  24.0    0        109.0        9.0   \n",
       "2           0          0            0  58.0    1         43.0     3576.0   \n",
       "3           0          0            0  33.0    0          0.0     1283.0   \n",
       "4           1          0            0  16.0    0        303.0       70.0   \n",
       "\n",
       "   ShoppingMall     Spa  VRDeck  Transported  Deck  Num  Side  \n",
       "0           0.0     0.0     0.0        False     0  0.0   NaN  \n",
       "1          25.0   549.0    44.0         True     1  0.0   NaN  \n",
       "2           0.0  6715.0    49.0        False     2  0.0   NaN  \n",
       "3         371.0  3329.0   193.0        False     2  0.0   NaN  \n",
       "4         151.0   565.0     2.0         True     1  1.0   NaN  "
      ]
     },
     "execution_count": 15,
     "metadata": {},
     "output_type": "execute_result"
    }
   ],
   "source": [
    "train = train.applymap(lambda x: x.replace('/', '0') if isinstance(x, str) else x)\n",
    "test = test.applymap(lambda x: x.replace('/', '0') if isinstance(x, str) else x)\n",
    "\n",
    "# Convert all cells to numeric; non-numeric values become NaN\n",
    "train = train.applymap(lambda x: pd.to_numeric(x, errors='coerce'))\n",
    "# Convert all cells to numeric; non-numeric values become NaN\n",
    "train.head()"
   ]
  },
  {
   "cell_type": "markdown",
   "id": "d2650333",
   "metadata": {},
   "source": [
    "#### Split Train Data Set"
   ]
  },
  {
   "cell_type": "code",
   "execution_count": 16,
   "id": "cd326b49",
   "metadata": {},
   "outputs": [],
   "source": [
    "# Shuffle the data and reset the index\n",
    "train = train.sample(frac=1, random_state=42).reset_index(drop=True)\n",
    "\n",
    "Y = train['Transported']\n",
    "\n",
    "X = train.drop(columns='Transported')\n",
    "\n",
    "\n",
    "\n",
    "X_train, X_test, y_train, y_test = train_test_split(X, Y, test_size=0.2, random_state=42)"
   ]
  },
  {
   "cell_type": "markdown",
   "id": "889d091d",
   "metadata": {},
   "source": [
    "### Train"
   ]
  },
  {
   "cell_type": "code",
   "execution_count": 17,
   "id": "354b7d15",
   "metadata": {},
   "outputs": [
    {
     "name": "stdout",
     "output_type": "stream",
     "text": [
      "Accuracy: 0.78\n",
      "              precision    recall  f1-score   support\n",
      "\n",
      "       False       0.77      0.80      0.79       887\n",
      "        True       0.78      0.75      0.77       852\n",
      "\n",
      "    accuracy                           0.78      1739\n",
      "   macro avg       0.78      0.78      0.78      1739\n",
      "weighted avg       0.78      0.78      0.78      1739\n",
      "\n"
     ]
    }
   ],
   "source": [
    "# model = RandomForestClassifier(max_depth=30, n_estimators=40, min_samples_split=50, min_samples_leaf=14, random_state=88)\n",
    "model = RandomForestClassifier(random_state=42) # This works better than the one above, even though it has worse accuracy\n",
    "\n",
    "# Train the model\n",
    "model.fit(X_train, y_train)\n",
    "\n",
    "y_pred = model.predict(X_test)\n",
    "\n",
    "# Accuracy\n",
    "accuracy = accuracy_score(y_test, y_pred)\n",
    "print(f\"Accuracy: {accuracy:.2f}\")\n",
    "\n",
    "# Classification report\n",
    "print(classification_report(y_test, y_pred))\n",
    "\n",
    "\n"
   ]
  },
  {
   "cell_type": "markdown",
   "id": "95dc1e7a",
   "metadata": {},
   "source": [
    "### Run Model on test"
   ]
  },
  {
   "cell_type": "code",
   "execution_count": 18,
   "id": "a750b2cd",
   "metadata": {},
   "outputs": [
    {
     "name": "stderr",
     "output_type": "stream",
     "text": [
      "/var/folders/3v/q192mwhs5095dds9n1kjhyb80000gn/T/ipykernel_37487/350066896.py:2: FutureWarning: DataFrame.applymap has been deprecated. Use DataFrame.map instead.\n",
      "  test = test.applymap(lambda x: pd.to_numeric(x, errors='coerce'))\n"
     ]
    }
   ],
   "source": [
    "test_ID = test[\"PassengerId\"]\n",
    "test = test.applymap(lambda x: pd.to_numeric(x, errors='coerce'))\n",
    "\n",
    "test = test.drop(columns=\"PassengerId\")\n",
    "\n",
    "predictions = model.predict(test)"
   ]
  },
  {
   "cell_type": "markdown",
   "id": "dfe9ba4d",
   "metadata": {},
   "source": [
    "### Format Answer / Create CSV"
   ]
  },
  {
   "cell_type": "code",
   "execution_count": 19,
   "id": "95fcaf4a",
   "metadata": {},
   "outputs": [
    {
     "name": "stdout",
     "output_type": "stream",
     "text": [
      "  PassengerId  Transported\n",
      "0     0013_01         True\n",
      "1     0018_01        False\n",
      "2     0019_01         True\n",
      "3     0021_01         True\n",
      "4     0023_01         True\n"
     ]
    }
   ],
   "source": [
    "Answer = pd.DataFrame({\n",
    "    \"PassengerId\": test_ID,\n",
    "    \"Transported\": predictions\n",
    "})\n",
    "\n",
    "print(Answer.head())"
   ]
  },
  {
   "cell_type": "code",
   "execution_count": 20,
   "id": "6d0dbd79",
   "metadata": {},
   "outputs": [],
   "source": [
    "Answer.to_csv(\"SpaceTitanic_Answer.csv\", index=False)"
   ]
  }
 ],
 "metadata": {
  "kernelspec": {
   "display_name": "base",
   "language": "python",
   "name": "python3"
  },
  "language_info": {
   "codemirror_mode": {
    "name": "ipython",
    "version": 3
   },
   "file_extension": ".py",
   "mimetype": "text/x-python",
   "name": "python",
   "nbconvert_exporter": "python",
   "pygments_lexer": "ipython3",
   "version": "3.12.7"
  }
 },
 "nbformat": 4,
 "nbformat_minor": 5
}
