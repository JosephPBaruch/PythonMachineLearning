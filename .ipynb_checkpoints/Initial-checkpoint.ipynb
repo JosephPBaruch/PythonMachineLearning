{
 "cells": [
  {
   "cell_type": "code",
   "execution_count": null,
   "id": "66045b44-aa2d-409c-8354-6e8499d35bd7",
   "metadata": {},
   "outputs": [],
   "source": [
    "#Note"
   ]
  },
  {
   "cell_type": "code",
   "execution_count": null,
   "id": "d7d2e4d3-1ade-407f-9a37-0228154c5fa0",
   "metadata": {},
   "outputs": [],
   "source": []
  },
  {
   "cell_type": "code",
   "execution_count": null,
   "id": "41407193-c0c6-4fe4-9b9f-3678a6f4a8dd",
   "metadata": {},
   "outputs": [],
   "source": []
  }
 ],
 "metadata": {
  "kernelspec": {
   "display_name": "Python [conda env:anaconda3]",
   "language": "python",
   "name": "conda-env-anaconda3-py"
  },
  "language_info": {
   "name": ""
  }
 },
 "nbformat": 4,
 "nbformat_minor": 5
}
